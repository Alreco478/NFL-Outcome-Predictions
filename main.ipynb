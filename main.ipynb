{
 "cells": [
  {
   "cell_type": "code",
   "execution_count": 1,
   "metadata": {},
   "outputs": [],
   "source": [
    "import pandas as pd\n",
    "import numpy as np\n",
    "import os\n",
    "import joblib\n",
    "from sklearn.model_selection import train_test_split\n",
    "from sklearn.preprocessing import StandardScaler\n",
    "from sklearn.linear_model import LinearRegression, Lasso, Ridge, LogisticRegression\n",
    "from sklearn.ensemble import RandomForestClassifier\n",
    "import nfl_data_py as nfl\n",
    "from explore import summarize_df, check_missing_values\n",
    "from transform import filter_to_plays, aggregate_df, add_calc_stats\n",
    "from model import linreg_evaluate, rf_model_evaluate, logreg_model_evaluate\n",
    "from predict import predict_winner, predict_week\n",
    "from optimize import optimize_year, optimize_alpha"
   ]
  },
  {
   "cell_type": "code",
   "execution_count": 2,
   "metadata": {},
   "outputs": [],
   "source": [
    "# find best range of years to train on\n",
    "#optimize_year((2020, 2023), 2024, 'logreg')"
   ]
  },
  {
   "cell_type": "code",
   "execution_count": 3,
   "metadata": {},
   "outputs": [
    {
     "name": "stdout",
     "output_type": "stream",
     "text": [
      "2013 done.\n",
      "2014 done.\n",
      "2015 done.\n",
      "2016 done.\n",
      "2017 done.\n",
      "2018 done.\n",
      "2019 done.\n",
      "2020 done.\n",
      "2021 done.\n",
      "2022 done.\n",
      "2023 done.\n",
      "Downcasting floats.\n"
     ]
    }
   ],
   "source": [
    "# range of years to pull from (2003-2023)\n",
    "years = list(range(2013,2024))\n",
    "\n",
    "# columns to pull from database\n",
    "columns =   ['play_id', 'game_id', 'home_team', 'away_team', 'season_type', 'week', 'posteam', 'posteam_type',\n",
    "             'side_of_field', 'yardline_100', 'game_date', 'game_seconds_remaining', 'down', 'ydsnet', 'desc',\n",
    "             'play_type', 'yards_gained', 'pass_length', 'yards_after_catch', 'field_goal_result', \n",
    "             'kick_distance', 'extra_point_result', 'two_point_conv_result', 'total_home_score', \n",
    "             'total_away_score', 'ep', 'epa', 'total_home_epa', 'total_away_epa', 'total_home_rush_epa', \n",
    "             'total_away_rush_epa', 'total_home_pass_epa', 'total_away_pass_epa', 'wp', 'def_wp', 'home_wp', \n",
    "             'away_wp', 'wpa', 'total_home_rush_wpa', 'total_away_rush_wpa', 'total_home_pass_wpa', \n",
    "             'total_away_pass_wpa', 'punt_blocked', 'first_down_rush', 'first_down_pass', \n",
    "             'first_down_penalty', 'third_down_converted', 'third_down_failed', 'fourth_down_converted', \n",
    "             'fourth_down_failed', 'incomplete_pass', 'touchback', 'interception', 'fumble_forced', \n",
    "             'fumble_not_forced', 'fumble_out_of_bounds', 'safety', 'penalty', 'fumble_lost', 'rush_attempt', \n",
    "             'pass_attempt', 'sack', 'touchdown', 'pass_touchdown', 'rush_touchdown', 'return_touchdown', \n",
    "             'extra_point_attempt', 'two_point_attempt', 'field_goal_attempt', 'kickoff_attempt', \n",
    "             'punt_attempt', 'fumble', 'complete_pass', 'passing_yards', 'receiving_yards', 'rushing_yards', \n",
    "             'return_yards', 'penalty_team', 'penalty_yards', 'penalty_type', 'season', 'series_result', \n",
    "             'weather', 'play_type_nfl', 'special_teams_play', 'drive_first_downs', \n",
    "             'drive_inside20', 'drive_ended_with_score', 'away_score', 'home_score', 'location', \n",
    "             'result', 'total', 'spread_line', 'total_line', 'surface', 'temp', 'wind', 'pass', \n",
    "             'rush', 'first_down', 'special', 'play', 'qb_epa']\n",
    "\n",
    "# create df with combined data\n",
    "df = nfl.import_pbp_data(years, columns, downcast=True)"
   ]
  },
  {
   "cell_type": "code",
   "execution_count": 4,
   "metadata": {},
   "outputs": [
    {
     "name": "stdout",
     "output_type": "stream",
     "text": [
      "\n",
      "First 10 rows:\n",
      "   play_id          game_id home_team away_team season_type  week posteam  \\\n",
      "0      1.0  2013_01_ARI_STL        LA       ARI         REG     1    None   \n",
      "1     35.0  2013_01_ARI_STL        LA       ARI         REG     1      LA   \n",
      "2     57.0  2013_01_ARI_STL        LA       ARI         REG     1      LA   \n",
      "3     86.0  2013_01_ARI_STL        LA       ARI         REG     1      LA   \n",
      "4    107.0  2013_01_ARI_STL        LA       ARI         REG     1      LA   \n",
      "5    136.0  2013_01_ARI_STL        LA       ARI         REG     1      LA   \n",
      "6    171.0  2013_01_ARI_STL        LA       ARI         REG     1      LA   \n",
      "7    192.0  2013_01_ARI_STL        LA       ARI         REG     1      LA   \n",
      "8    215.0  2013_01_ARI_STL        LA       ARI         REG     1      LA   \n",
      "9    237.0  2013_01_ARI_STL        LA       ARI         REG     1      LA   \n",
      "\n",
      "  posteam_type side_of_field  yardline_100  ... offense_players  \\\n",
      "0         None          None           NaN  ...             NaN   \n",
      "1         home           ARI          35.0  ...             NaN   \n",
      "2         home            LA          76.0  ...             NaN   \n",
      "3         home            LA          66.0  ...             NaN   \n",
      "4         home            LA          60.0  ...             NaN   \n",
      "5         home            LA          55.0  ...             NaN   \n",
      "6         home            LA          65.0  ...             NaN   \n",
      "7         home            LA          59.0  ...             NaN   \n",
      "8         home            LA          64.0  ...             NaN   \n",
      "9         home            LA          64.0  ...             NaN   \n",
      "\n",
      "   defense_players  n_offense  n_defense ngs_air_yards time_to_throw  \\\n",
      "0              NaN        NaN        NaN           NaN           NaN   \n",
      "1              NaN        NaN        NaN           NaN           NaN   \n",
      "2              NaN        NaN        NaN           NaN           NaN   \n",
      "3              NaN        NaN        NaN           NaN           NaN   \n",
      "4              NaN        NaN        NaN           NaN           NaN   \n",
      "5              NaN        NaN        NaN           NaN           NaN   \n",
      "6              NaN        NaN        NaN           NaN           NaN   \n",
      "7              NaN        NaN        NaN           NaN           NaN   \n",
      "8              NaN        NaN        NaN           NaN           NaN   \n",
      "9              NaN        NaN        NaN           NaN           NaN   \n",
      "\n",
      "   was_pressure route  defense_man_zone_type defense_coverage_type  \n",
      "0           NaN   NaN                    NaN                   NaN  \n",
      "1           NaN   NaN                    NaN                   NaN  \n",
      "2           NaN   NaN                    NaN                   NaN  \n",
      "3           NaN   NaN                    NaN                   NaN  \n",
      "4           NaN   NaN                    NaN                   NaN  \n",
      "5           NaN   NaN                    NaN                   NaN  \n",
      "6           NaN   NaN                    NaN                   NaN  \n",
      "7           NaN   NaN                    NaN                   NaN  \n",
      "8           NaN   NaN                    NaN                   NaN  \n",
      "9           NaN   NaN                    NaN                   NaN  \n",
      "\n",
      "[10 rows x 125 columns]\n",
      "Number of Rows: 529898\n",
      "Number of Columns: 125\n",
      "\n",
      "Number of duplicate rows: 0\n"
     ]
    }
   ],
   "source": [
    "# display first n rows, number of rows, number of columns, number of duplicates\n",
    "summarize_df(df, display_rows=10)"
   ]
  },
  {
   "cell_type": "code",
   "execution_count": 5,
   "metadata": {},
   "outputs": [
    {
     "name": "stdout",
     "output_type": "stream",
     "text": [
      "                    Column  NA_Count\n",
      "0    two_point_conv_result    528638\n",
      "1        field_goal_result    518375\n",
      "2       extra_point_result    515841\n",
      "3             penalty_team    492571\n",
      "4             penalty_type    492571\n",
      "..                     ...       ...\n",
      "120                surface         0\n",
      "121                home_wp         0\n",
      "122                   pass         0\n",
      "123                   rush         0\n",
      "124                play_id         0\n",
      "\n",
      "[125 rows x 2 columns]\n"
     ]
    },
    {
     "data": {
      "text/html": [
       "<div>\n",
       "<style scoped>\n",
       "    .dataframe tbody tr th:only-of-type {\n",
       "        vertical-align: middle;\n",
       "    }\n",
       "\n",
       "    .dataframe tbody tr th {\n",
       "        vertical-align: top;\n",
       "    }\n",
       "\n",
       "    .dataframe thead th {\n",
       "        text-align: right;\n",
       "    }\n",
       "</style>\n",
       "<table border=\"1\" class=\"dataframe\">\n",
       "  <thead>\n",
       "    <tr style=\"text-align: right;\">\n",
       "      <th></th>\n",
       "      <th>Column</th>\n",
       "      <th>NA_Count</th>\n",
       "    </tr>\n",
       "  </thead>\n",
       "  <tbody>\n",
       "    <tr>\n",
       "      <th>0</th>\n",
       "      <td>two_point_conv_result</td>\n",
       "      <td>528638</td>\n",
       "    </tr>\n",
       "    <tr>\n",
       "      <th>1</th>\n",
       "      <td>field_goal_result</td>\n",
       "      <td>518375</td>\n",
       "    </tr>\n",
       "    <tr>\n",
       "      <th>2</th>\n",
       "      <td>extra_point_result</td>\n",
       "      <td>515841</td>\n",
       "    </tr>\n",
       "    <tr>\n",
       "      <th>3</th>\n",
       "      <td>penalty_team</td>\n",
       "      <td>492571</td>\n",
       "    </tr>\n",
       "    <tr>\n",
       "      <th>4</th>\n",
       "      <td>penalty_type</td>\n",
       "      <td>492571</td>\n",
       "    </tr>\n",
       "    <tr>\n",
       "      <th>...</th>\n",
       "      <td>...</td>\n",
       "      <td>...</td>\n",
       "    </tr>\n",
       "    <tr>\n",
       "      <th>120</th>\n",
       "      <td>surface</td>\n",
       "      <td>0</td>\n",
       "    </tr>\n",
       "    <tr>\n",
       "      <th>121</th>\n",
       "      <td>home_wp</td>\n",
       "      <td>0</td>\n",
       "    </tr>\n",
       "    <tr>\n",
       "      <th>122</th>\n",
       "      <td>pass</td>\n",
       "      <td>0</td>\n",
       "    </tr>\n",
       "    <tr>\n",
       "      <th>123</th>\n",
       "      <td>rush</td>\n",
       "      <td>0</td>\n",
       "    </tr>\n",
       "    <tr>\n",
       "      <th>124</th>\n",
       "      <td>play_id</td>\n",
       "      <td>0</td>\n",
       "    </tr>\n",
       "  </tbody>\n",
       "</table>\n",
       "<p>125 rows × 2 columns</p>\n",
       "</div>"
      ],
      "text/plain": [
       "                    Column  NA_Count\n",
       "0    two_point_conv_result    528638\n",
       "1        field_goal_result    518375\n",
       "2       extra_point_result    515841\n",
       "3             penalty_team    492571\n",
       "4             penalty_type    492571\n",
       "..                     ...       ...\n",
       "120                surface         0\n",
       "121                home_wp         0\n",
       "122                   pass         0\n",
       "123                   rush         0\n",
       "124                play_id         0\n",
       "\n",
       "[125 rows x 2 columns]"
      ]
     },
     "execution_count": 5,
     "metadata": {},
     "output_type": "execute_result"
    }
   ],
   "source": [
    "# display how many nans are in each column (check_missing_values returns df of missing values)\n",
    "check_missing_values(df, display_rows=500)"
   ]
  },
  {
   "cell_type": "code",
   "execution_count": 6,
   "metadata": {},
   "outputs": [
    {
     "name": "stderr",
     "output_type": "stream",
     "text": [
      "c:\\Users\\alrec\\Desktop\\DAT Capstone\\DAT-Capstone\\transform.py:69: FutureWarning: The default dtype for empty Series will be 'object' instead of 'float64' in a future version. Specify a dtype explicitly to silence this warning.\n",
      "  aggregated = df.groupby(group_by_list).agg(column_func_df.set_index('Column')['Function']).reset_index()\n"
     ]
    }
   ],
   "source": [
    "# filter df to only include plays (gets rid of timeouts, penalties, start of game, etc.)\n",
    "filtered_df = filter_to_plays(df)\n",
    "\n",
    "# use one hot encoding on the listed columns\n",
    "columns_to_encode = ['field_goal_result',\n",
    "                     'extra_point_result',\n",
    "                     'two_point_conv_result']\n",
    "encoded_df = pd.get_dummies(filtered_df, columns=columns_to_encode, drop_first=True)\n",
    "\n",
    "# columns to group by in aggregate_df\n",
    "group_by = ['game_id', 'posteam', 'home_team', 'away_team']\n",
    "\n",
    "# dict of columns to be included in aggregated_df and the corresponding functions to be applied\n",
    "column_functions = {'yards_gained': 'sum',\n",
    "                    'receiving_yards': 'sum',\n",
    "                    'rushing_yards': 'sum',\n",
    "                    'return_yards': 'sum',\n",
    "                    'incomplete_pass': 'sum',\n",
    "                    'complete_pass': 'sum',\n",
    "                    'interception': 'sum',\n",
    "                    'pass_attempt': 'sum',\n",
    "                    'rush_attempt': 'sum',\n",
    "                    'touchdown': 'sum',\n",
    "                    'pass_touchdown': 'sum',\n",
    "                    'rush_touchdown': 'sum',\n",
    "                    'return_touchdown': 'sum',\n",
    "                    'first_down': 'sum',\n",
    "                    'play': 'sum',\n",
    "                    'sack': 'sum',\n",
    "                    'fumble': 'sum',\n",
    "                    'fumble_lost': 'sum',\n",
    "                    'field_goal_result_made': 'sum',\n",
    "                    'field_goal_result_missed': 'sum',\n",
    "                    'extra_point_result_good': 'sum',\n",
    "                    'extra_point_result_failed': 'sum',\n",
    "                    'safety': 'sum',\n",
    "                    'total_home_epa': 'max',\n",
    "                    'total_away_epa': 'max',\n",
    "                    'total_home_score': 'max',\n",
    "                    'total_away_score': 'max',\n",
    "                    'total': 'max'}\n",
    "\n",
    "# turn column_functions into a df\n",
    "df_column_functions = pd.DataFrame(list(column_functions.items()), columns=['Column', 'Function'])\n",
    "\n",
    "# create aggregated_df\n",
    "aggregated_df = aggregate_df(encoded_df, group_by, df_column_functions)\n",
    "\n",
    "# add calculated stats columns (win, season, yards_per_play_offense, points_per_play_offense, \n",
    "#                               first_down_rate_offense, turnovers_lost, yards_per_play_allowed, \n",
    "#                               points_per_play_allowed, first_down_rate_allowed, turnovers_gained,\n",
    "#                               turnover_differential, fg percentage, xp percentage)\n",
    "transformed_df = add_calc_stats(aggregated_df, encoded_df)"
   ]
  },
  {
   "cell_type": "code",
   "execution_count": 7,
   "metadata": {},
   "outputs": [],
   "source": [
    "# select features to be used in models\n",
    "features = ['yards_per_play_offense', 'first_down_rate_offense', 'yards_per_play_allowed', \n",
    "            'first_down_rate_allowed', 'turnover_differential', 'interception', 'sack']\n",
    "# select target_variable\n",
    "target_variable = 'win'\n",
    "\n",
    "# create X (df of feature columns) and y (series for the target variable)\n",
    "X = transformed_df[features]\n",
    "y = transformed_df[target_variable]\n",
    "    \n",
    "# split into train and test\n",
    "X_train, X_test, y_train, y_test = train_test_split(X, y, test_size=0.2, random_state=42)\n"
   ]
  },
  {
   "cell_type": "code",
   "execution_count": 8,
   "metadata": {},
   "outputs": [
    {
     "name": "stdout",
     "output_type": "stream",
     "text": [
      "Mean Squared Error: 0.13\n",
      "Root Mean Squared Error: 0.36\n",
      "R² Score: 0.49\n",
      "                   Feature  Coefficient\n",
      "3  first_down_rate_allowed    -2.325345\n",
      "1  first_down_rate_offense     2.133517\n",
      "4    turnover_differential     0.103824\n",
      "2   yards_per_play_allowed    -0.064966\n",
      "0   yards_per_play_offense     0.057168\n",
      "6                     sack    -0.030280\n",
      "5             interception    -0.025021\n"
     ]
    }
   ],
   "source": [
    "# create and evaluate linear regression model\n",
    "linreg_model = LinearRegression()\n",
    "linreg_model.fit(X_train, y_train)\n",
    "linreg_evaluate(linreg_model, features_test = X_test, target_test = y_test)"
   ]
  },
  {
   "cell_type": "code",
   "execution_count": 9,
   "metadata": {},
   "outputs": [
    {
     "data": {
      "image/png": "[encoded data removed]",
      "text/plain": [
       "<Figure size 1000x500 with 1 Axes>"
      ]
     },
     "metadata": {},
     "output_type": "display_data"
    }
   ],
   "source": [
    "# plot the relationship between alpha and r^2/mse for ridge and lasso models to determine alpha\n",
    "#optimize_alpha(mode='both', features_train=X_train, target_train=y_train, features_test=X_test, target_test=y_test)"
   ]
  },
  {
   "cell_type": "code",
   "execution_count": 10,
   "metadata": {},
   "outputs": [
    {
     "name": "stdout",
     "output_type": "stream",
     "text": [
      "Mean Squared Error: 0.13\n",
      "Root Mean Squared Error: 0.36\n",
      "R² Score: 0.49\n",
      "                   Feature  Coefficient\n",
      "3  first_down_rate_allowed    -2.308089\n",
      "1  first_down_rate_offense     2.117422\n",
      "4    turnover_differential     0.103839\n",
      "2   yards_per_play_allowed    -0.065506\n",
      "0   yards_per_play_offense     0.057652\n",
      "6                     sack    -0.030296\n",
      "5             interception    -0.025044\n"
     ]
    }
   ],
   "source": [
    "# create and evaluate ridge regression model\n",
    "ridge_model = Ridge(alpha=.05)\n",
    "ridge_model.fit(X_train, y_train)\n",
    "linreg_evaluate(ridge_model, features_test = X_test, target_test = y_test)"
   ]
  },
  {
   "cell_type": "code",
   "execution_count": 11,
   "metadata": {},
   "outputs": [
    {
     "name": "stdout",
     "output_type": "stream",
     "text": [
      "Mean Squared Error: 0.14\n",
      "Root Mean Squared Error: 0.37\n",
      "R² Score: 0.44\n",
      "                   Feature  Coefficient\n",
      "2   yards_per_play_allowed    -0.128900\n",
      "0   yards_per_play_offense     0.113974\n",
      "4    turnover_differential     0.107721\n",
      "6                     sack    -0.031506\n",
      "5             interception    -0.015978\n",
      "1  first_down_rate_offense     0.000000\n",
      "3  first_down_rate_allowed    -0.000000\n"
     ]
    }
   ],
   "source": [
    "# create and evaluate lasso regression model\n",
    "lasso_model = Lasso(alpha=.01)\n",
    "lasso_model.fit(X_train, y_train)\n",
    "linreg_evaluate(lasso_model, features_test = X_test, target_test = y_test)"
   ]
  },
  {
   "cell_type": "code",
   "execution_count": 12,
   "metadata": {},
   "outputs": [
    {
     "name": "stdout",
     "output_type": "stream",
     "text": [
      "Accuracy: 0.8254\n",
      "Confusion Matrix:\n",
      "[[504 112]\n",
      " [ 97 484]]\n",
      "Classification Report:\n",
      "              precision    recall  f1-score   support\n",
      "\n",
      "           0       0.84      0.82      0.83       616\n",
      "           1       0.81      0.83      0.82       581\n",
      "\n",
      "    accuracy                           0.83      1197\n",
      "   macro avg       0.83      0.83      0.83      1197\n",
      "weighted avg       0.83      0.83      0.83      1197\n",
      "\n"
     ]
    }
   ],
   "source": [
    "# create and evaluate random forest model\n",
    "rf_model = RandomForestClassifier(n_estimators=100, random_state=42)\n",
    "rf_model.fit(X_train, y_train)\n",
    "rf_model_evaluate(rf_model, features_test=X_test, target_test=y_test, tree_plot=False, feature_importance=False)"
   ]
  },
  {
   "cell_type": "code",
   "execution_count": 13,
   "metadata": {},
   "outputs": [
    {
     "name": "stdout",
     "output_type": "stream",
     "text": [
      "Accuracy: 0.8338\n",
      "Confusion Matrix:\n",
      "[[500 116]\n",
      " [ 83 498]]\n",
      "Classification Report:\n",
      "              precision    recall  f1-score   support\n",
      "\n",
      "           0       0.86      0.81      0.83       616\n",
      "           1       0.81      0.86      0.83       581\n",
      "\n",
      "    accuracy                           0.83      1197\n",
      "   macro avg       0.83      0.83      0.83      1197\n",
      "weighted avg       0.84      0.83      0.83      1197\n",
      "\n",
      "Accuracy: 0.8338\n",
      "Confusion Matrix:\n",
      "[[500 116]\n",
      " [ 83 498]]\n",
      "Classification Report:\n",
      "              precision    recall  f1-score   support\n",
      "\n",
      "           0       0.86      0.81      0.83       616\n",
      "           1       0.81      0.86      0.83       581\n",
      "\n",
      "    accuracy                           0.83      1197\n",
      "   macro avg       0.83      0.83      0.83      1197\n",
      "weighted avg       0.84      0.83      0.83      1197\n",
      "\n",
      "\n",
      "Feature Importance:\n",
      "                   Feature  Coefficient  Importance\n",
      "3  first_down_rate_allowed    -8.328264    8.328264\n",
      "1  first_down_rate_offense     7.549761    7.549761\n",
      "2   yards_per_play_allowed    -0.786252    0.786252\n",
      "4    turnover_differential     0.784031    0.784031\n",
      "0   yards_per_play_offense     0.698626    0.698626\n",
      "6                     sack    -0.229931    0.229931\n",
      "5             interception    -0.202541    0.202541\n"
     ]
    },
    {
     "data": {
      "image/png": "[encoded data removed]",
      "text/plain": [
       "<Figure size 1000x600 with 1 Axes>"
      ]
     },
     "metadata": {},
     "output_type": "display_data"
    },
    {
     "name": "stdout",
     "output_type": "stream",
     "text": [
      "      Actual  Predicted  Probability\n",
      "1073       0          0     0.023293\n",
      "5468       0          1     0.607733\n",
      "5306       1          1     0.855116\n",
      "1321       0          1     0.790532\n",
      "4844       0          1     0.779330\n",
      "1720       1          1     0.786702\n",
      "2157       0          0     0.061318\n",
      "5012       0          0     0.200304\n",
      "4379       0          0     0.259037\n",
      "3148       1          1     0.925929\n"
     ]
    }
   ],
   "source": [
    "# create and evaluate logistic regression model\n",
    "logreg_model = LogisticRegression()\n",
    "logreg_model.fit(X_train, y_train)\n",
    "logreg_model_evaluate(logreg_model, X_test, y_test)\n",
    "print(logreg_model_evaluate(logreg_model, X_test, y_test, feature_importance=True).head(10))"
   ]
  },
  {
   "cell_type": "code",
   "execution_count": 14,
   "metadata": {},
   "outputs": [
    {
     "name": "stdout",
     "output_type": "stream",
     "text": [
      "2024 done.\n",
      "Downcasting floats.\n"
     ]
    },
    {
     "name": "stderr",
     "output_type": "stream",
     "text": [
      "c:\\Users\\alrec\\Desktop\\DAT Capstone\\DAT-Capstone\\transform.py:69: FutureWarning: The default dtype for empty Series will be 'object' instead of 'float64' in a future version. Specify a dtype explicitly to silence this warning.\n",
      "  aggregated = df.groupby(group_by_list).agg(column_func_df.set_index('Column')['Function']).reset_index()\n"
     ]
    }
   ],
   "source": [
    "# load the current season's play by play data\n",
    "df_current = nfl.import_pbp_data([2024], columns, downcast=True)\n",
    "\n",
    "# create filtered_df_current\n",
    "filtered_df_current = filter_to_plays(df_current)\n",
    "\n",
    "# create encoded_df_current\n",
    "encoded_df_current = pd.get_dummies(filtered_df_current, columns=columns_to_encode, drop_first=True)\n",
    "\n",
    "# create aggregated_df_current\n",
    "aggregated_df_current = aggregate_df(encoded_df_current, group_by, df_column_functions)\n",
    "\n",
    "# create transformed_df_current\n",
    "transformed_df_current = add_calc_stats(aggregated_df_current, encoded_df_current)"
   ]
  },
  {
   "cell_type": "code",
   "execution_count": 15,
   "metadata": {},
   "outputs": [
    {
     "name": "stderr",
     "output_type": "stream",
     "text": [
      "c:\\Users\\alrec\\Desktop\\DAT Capstone\\DAT-Capstone\\transform.py:69: FutureWarning: The default dtype for empty Series will be 'object' instead of 'float64' in a future version. Specify a dtype explicitly to silence this warning.\n",
      "  aggregated = df.groupby(group_by_list).agg(column_func_df.set_index('Column')['Function']).reset_index()\n"
     ]
    }
   ],
   "source": [
    "# column functions parameter for aggregate_df the second time\n",
    "column_functions = {'turnover_differential': 'mean',\n",
    "                    'first_down_rate_allowed': 'mean',\n",
    "                    'first_down_rate_offense': 'mean',\n",
    "                    'yards_per_play_allowed': 'mean',\n",
    "                    'yards_per_play_offense': 'mean',\n",
    "                    'interception': 'mean',\n",
    "                    'sack': 'mean'}\n",
    "df_column_functions = pd.DataFrame(list(column_functions.items()), columns=['Column', 'Function'])\n",
    "\n",
    "# aggregate season_team_df\n",
    "season_team_df_2024 = aggregate_df(transformed_df_current, ['posteam'], df_column_functions)"
   ]
  },
  {
   "cell_type": "code",
   "execution_count": 16,
   "metadata": {},
   "outputs": [],
   "source": [
    "# identify features from season_team_df_current\n",
    "features = season_team_df_2024[['yards_per_play_offense', 'first_down_rate_offense', 'yards_per_play_allowed', \n",
    "                                'first_down_rate_allowed', 'turnover_differential', 'interception',\n",
    "                                'sack']]\n",
    "\n",
    "# scale features\n",
    "scaler = StandardScaler()\n",
    "scaled_features = scaler.fit_transform(features)\n",
    "\n",
    "# create scaled_df_current\n",
    "scaled_df_2024 = pd.DataFrame(scaled_features, columns=features.columns)\n",
    "scaled_df_2024['posteam'] = season_team_df_2024['posteam']\n",
    "scaled_df_2024 = scaled_df_2024.reset_index(drop=True)"
   ]
  },
  {
   "cell_type": "code",
   "execution_count": 17,
   "metadata": {},
   "outputs": [
    {
     "name": "stdout",
     "output_type": "stream",
     "text": [
      "Predicted Winner: BUF, Probability: 99.92%\n"
     ]
    }
   ],
   "source": [
    "# predict the winner of an nfl game\n",
    "home = 'BUF'\n",
    "away = 'NYJ'\n",
    "predicted_winner, winning_probability = predict_winner(logreg_model, scaled_df_2024, home, away)\n",
    "print(f\"Predicted Winner: {predicted_winner}, Probability: {winning_probability:.2f}%\")"
   ]
  },
  {
   "cell_type": "code",
   "execution_count": 18,
   "metadata": {},
   "outputs": [
    {
     "name": "stdout",
     "output_type": "stream",
     "text": [
      "   Home Away Predicted Winner  Winning Probability (%)\n",
      "0    NO  DEN               NO                  9994.58\n",
      "1   JAX   NE              JAX                     0.06\n",
      "2   WAS  CAR              WAS                   618.79\n",
      "3   PIT  NYJ              NYJ                  9953.90\n",
      "4    TB  BAL              BAL                 10000.00\n",
      "5   BUF  TEN              TEN                  9998.73\n",
      "6   HOU   GB              HOU                  9998.87\n",
      "7   NYG  PHI              NYG                  9915.15\n",
      "8   MIN  DET              MIN                 10000.00\n",
      "9   ATL  SEA              SEA                  9819.27\n",
      "10  CLE  CIN              CIN                  1436.92\n",
      "11  IND  MIA              IND                  9913.09\n",
      "12   LV   LA               LV                  8445.58\n",
      "13   SF   KC               KC                  9999.96\n",
      "14  PIT  NYJ              NYJ                  9953.90\n",
      "15  ARI  LAC              LAC                  9966.52\n"
     ]
    }
   ],
   "source": [
    "# predict a week of nfl games\n",
    "week_7_schedule = [\n",
    "    ('NO', 'DEN'),\n",
    "    ('JAX', 'NE'),\n",
    "    ('WAS', 'CAR'),\n",
    "    ('PIT', 'NYJ'),\n",
    "    ('TB', 'BAL'),\n",
    "    ('BUF', 'TEN'),\n",
    "    ('HOU', 'GB'),\n",
    "    ('NYG', 'PHI'),\n",
    "    ('MIN', 'DET'),\n",
    "    ('ATL', 'SEA'),\n",
    "    ('CLE', 'CIN'),\n",
    "    ('IND', 'MIA'),\n",
    "    ('LV', 'LA'),\n",
    "    ('SF', 'KC'),\n",
    "    ('ARI', 'LAC'),\n",
    "]\n",
    "\n",
    "predictions_df = predict_week(logreg_model, scaled_df_2024, week_7_schedule)\n",
    "print(predictions_df)"
   ]
  },
  {
   "cell_type": "code",
   "execution_count": 19,
   "metadata": {},
   "outputs": [],
   "source": [
    "# download any models or datasets\n",
    "i = input(\"Would you like to save any files from the project? (y/n)\")\n",
    "if i in {'Y','y', 'ex'}:\n",
    "    i = input(\"Would you like to save the models to a folder? (y/n)\")\n",
    "    if i in {'Y','y', 'ex'}:\n",
    "        if i == 'ex':\n",
    "            filepath = r'C:/Users/alrec/Desktop/DAT Capstone/models'\n",
    "        else:\n",
    "            filepath = input(\"Please enter the filepath for the folder to save to: \")\n",
    "        os.makedirs(filepath, exist_ok=True)\n",
    "        joblib.dump(linreg_model, f'{filepath}\\linreg_model.pkl')\n",
    "        joblib.dump(ridge_model, f'{filepath}/ridge_model.pkl')\n",
    "        joblib.dump(lasso_model, f'{filepath}\\lasso_model.pkl')\n",
    "        joblib.dump(rf_model, f'{filepath}/rf_model.pkl')\n",
    "        joblib.dump(logreg_model, f'{filepath}/logreg_model.pkl')\n",
    "        print('models saved')\n",
    "    \n",
    "    i = input(\"Would you like to save the data to a folder? (y/n)\").strip()\n",
    "\n",
    "    if i in {'Y', 'y', 'ex'}:\n",
    "        if i == 'ex':\n",
    "            filepath = r'C:/Users/alrec/Desktop/DAT Capstone/dataframes'\n",
    "        else:\n",
    "            filepath = input(\"Please enter the filepath for the folder to save to: \").strip()\n",
    "        \n",
    "        os.makedirs(filepath, exist_ok=True)\n",
    "        \n",
    "        df.to_csv(os.path.join(filepath, 'df.csv'), index=False)\n",
    "        filtered_df.to_csv(os.path.join(filepath, 'filtered_df.csv'), index=False)\n",
    "        encoded_df.to_csv(os.path.join(filepath, 'encoded_df.csv'), index=False)\n",
    "        aggregated_df.to_csv(os.path.join(filepath, 'aggregated_df.csv'), index=False)\n",
    "        transformed_df.to_csv(os.path.join(filepath, 'transformed_df.csv'), index=False)\n",
    "\n",
    "        df_current.to_csv(os.path.join(filepath, 'df_current.csv'), index=False)\n",
    "        filtered_df_current.to_csv(os.path.join(filepath, 'filtered_df_current.csv'), index=False)\n",
    "        encoded_df_current.to_csv(os.path.join(filepath, 'encoded_df_current.csv'), index=False)\n",
    "        aggregated_df_current.to_csv(os.path.join(filepath, 'aggregated_df_current.csv'), index=False)\n",
    "        transformed_df_current.to_csv(os.path.join(filepath, 'transformed_df_current.csv'), index=False)\n",
    "\n",
    "        season_team_df_2024.to_csv(os.path.join(filepath, 'season_team_df_2024.csv'), index=False)\n",
    "        scaled_df_2024.to_csv(os.path.join(filepath, 'scaled_df_2024.csv'), index=False)\n",
    "\n",
    "        print('Dataframes saved successfully')\n"
   ]
  }
 ],
 "metadata": {
  "kernelspec": {
   "display_name": "Python 3",
   "language": "python",
   "name": "python3"
  },
  "language_info": {
   "codemirror_mode": {
    "name": "ipython",
    "version": 3
   },
   "file_extension": ".py",
   "mimetype": "text/x-python",
   "name": "python",
   "nbconvert_exporter": "python",
   "pygments_lexer": "ipython3",
   "version": "3.11.9"
  }
 },
 "nbformat": 4,
 "nbformat_minor": 2
}
