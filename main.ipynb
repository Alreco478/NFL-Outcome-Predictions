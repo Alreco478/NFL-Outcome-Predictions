{
 "cells": [
  {
   "cell_type": "code",
   "execution_count": 29,
   "metadata": {},
   "outputs": [
    {
     "ename": "ImportError",
     "evalue": "cannot import name 'logreg_model_evaluate' from 'model' (c:\\Users\\alrec\\Desktop\\DATCAP Repo\\DAT-Capstone\\model.py)",
     "output_type": "error",
     "traceback": [
      "\u001b[1;31m---------------------------------------------------------------------------\u001b[0m",
      "\u001b[1;31mImportError\u001b[0m                               Traceback (most recent call last)",
      "Cell \u001b[1;32mIn[29], line 11\u001b[0m\n\u001b[0;32m      9\u001b[0m \u001b[38;5;28;01mfrom\u001b[39;00m \u001b[38;5;21;01mexplore\u001b[39;00m \u001b[38;5;28;01mimport\u001b[39;00m summarize_df, check_missing_values\n\u001b[0;32m     10\u001b[0m \u001b[38;5;28;01mfrom\u001b[39;00m \u001b[38;5;21;01mtransform\u001b[39;00m \u001b[38;5;28;01mimport\u001b[39;00m filter_to_plays, aggregate_df, add_calc_stats\n\u001b[1;32m---> 11\u001b[0m \u001b[38;5;28;01mfrom\u001b[39;00m \u001b[38;5;21;01mmodel\u001b[39;00m \u001b[38;5;28;01mimport\u001b[39;00m linreg_evaluate, optimize_alpha, rf_model_evaluate, logreg_model_evaluate\n",
      "\u001b[1;31mImportError\u001b[0m: cannot import name 'logreg_model_evaluate' from 'model' (c:\\Users\\alrec\\Desktop\\DATCAP Repo\\DAT-Capstone\\model.py)"
     ]
    }
   ],
   "source": [
    "import pandas as pd\n",
    "import numpy as np\n",
    "import os\n",
    "import joblib\n",
    "from sklearn.model_selection import train_test_split\n",
    "from sklearn.linear_model import LinearRegression, Lasso, Ridge, LogisticRegression\n",
    "from sklearn.ensemble import RandomForestClassifier\n",
    "import nfl_data_py as nfl\n",
    "from explore import summarize_df, check_missing_values\n",
    "from transform import filter_to_plays, aggregate_df, add_calc_stats\n",
    "from model import linreg_evaluate, optimize_alpha, rf_model_evaluate, logreg_model_evaluate"
   ]
  },
  {
   "cell_type": "code",
   "execution_count": 2,
   "metadata": {},
   "outputs": [
    {
     "name": "stdout",
     "output_type": "stream",
     "text": [
      "2003 done.\n",
      "2004 done.\n",
      "2005 done.\n",
      "2006 done.\n",
      "2007 done.\n",
      "2008 done.\n",
      "2009 done.\n",
      "2010 done.\n",
      "2011 done.\n",
      "2012 done.\n",
      "2013 done.\n",
      "2014 done.\n",
      "2015 done.\n",
      "2016 done.\n",
      "2017 done.\n",
      "2018 done.\n",
      "2019 done.\n",
      "2020 done.\n",
      "2021 done.\n",
      "2022 done.\n",
      "2023 done.\n",
      "Downcasting floats.\n"
     ]
    }
   ],
   "source": [
    "years = list(range(2003, 2024))\n",
    "columns =   ['play_id', 'game_id', 'home_team', 'away_team', 'season_type', 'week', 'posteam', 'posteam_type',\n",
    "             'side_of_field', 'yardline_100', 'game_date', 'game_seconds_remaining', 'down', 'ydsnet', 'desc',\n",
    "             'play_type', 'yards_gained', 'pass_length', 'yards_after_catch', 'field_goal_result', \n",
    "             'kick_distance', 'extra_point_result', 'two_point_conv_result', 'total_home_score', \n",
    "             'total_away_score', 'ep', 'epa', 'total_home_epa', 'total_away_epa', 'total_home_rush_epa', \n",
    "             'total_away_rush_epa', 'total_home_pass_epa', 'total_away_pass_epa', 'wp', 'def_wp', 'home_wp', \n",
    "             'away_wp', 'wpa', 'total_home_rush_wpa', 'total_away_rush_wpa', 'total_home_pass_wpa', \n",
    "             'total_away_pass_wpa', 'punt_blocked', 'first_down_rush', 'first_down_pass', \n",
    "             'first_down_penalty', 'third_down_converted', 'third_down_failed', 'fourth_down_converted', \n",
    "             'fourth_down_failed', 'incomplete_pass', 'touchback', 'interception', 'fumble_forced', \n",
    "             'fumble_not_forced', 'fumble_out_of_bounds', 'safety', 'penalty', 'fumble_lost', 'rush_attempt', \n",
    "             'pass_attempt', 'sack', 'touchdown', 'pass_touchdown', 'rush_touchdown', 'return_touchdown', \n",
    "             'extra_point_attempt', 'two_point_attempt', 'field_goal_attempt', 'kickoff_attempt', \n",
    "             'punt_attempt', 'fumble', 'complete_pass', 'passing_yards', 'receiving_yards', 'rushing_yards', \n",
    "             'return_yards', 'penalty_team', 'penalty_yards', 'penalty_type', 'season', 'series_result', \n",
    "             'weather', 'play_type_nfl', 'special_teams_play', 'drive_first_downs', \n",
    "             'drive_inside20', 'drive_ended_with_score', 'away_score', 'home_score', 'location', \n",
    "             'result', 'total', 'spread_line', 'total_line', 'surface', 'temp', 'wind', 'pass', \n",
    "             'rush', 'first_down', 'special', 'play', 'qb_epa']\n",
    "df = nfl.import_pbp_data(years, columns, downcast=True)"
   ]
  },
  {
   "cell_type": "code",
   "execution_count": 3,
   "metadata": {},
   "outputs": [
    {
     "name": "stdout",
     "output_type": "stream",
     "text": [
      "\n",
      "First 10 rows:\n",
      "   play_id          game_id home_team away_team season_type  week posteam  \\\n",
      "0      1.0  2003_01_ARI_DET       DET       ARI         REG     1    None   \n",
      "1     35.0  2003_01_ARI_DET       DET       ARI         REG     1     DET   \n",
      "2     57.0  2003_01_ARI_DET       DET       ARI         REG     1     DET   \n",
      "3     78.0  2003_01_ARI_DET       DET       ARI         REG     1     DET   \n",
      "4     99.0  2003_01_ARI_DET       DET       ARI         REG     1     DET   \n",
      "5    120.0  2003_01_ARI_DET       DET       ARI         REG     1     DET   \n",
      "6    141.0  2003_01_ARI_DET       DET       ARI         REG     1     DET   \n",
      "7    160.0  2003_01_ARI_DET       DET       ARI         REG     1     DET   \n",
      "8    178.0  2003_01_ARI_DET       DET       ARI         REG     1     ARI   \n",
      "9    199.0  2003_01_ARI_DET       DET       ARI         REG     1     ARI   \n",
      "\n",
      "  posteam_type side_of_field  yardline_100  ... offense_players  \\\n",
      "0         None          None           NaN  ...             NaN   \n",
      "1         home           ARI          30.0  ...             NaN   \n",
      "2         home           DET          70.0  ...             NaN   \n",
      "3         home           DET          61.0  ...             NaN   \n",
      "4         home           DET          59.0  ...             NaN   \n",
      "5         home            50          50.0  ...             NaN   \n",
      "6         home           DET          51.0  ...             NaN   \n",
      "7         home           DET          51.0  ...             NaN   \n",
      "8         away           ARI          80.0  ...             NaN   \n",
      "9         away           ARI          79.0  ...             NaN   \n",
      "\n",
      "   defense_players  n_offense  n_defense ngs_air_yards time_to_throw  \\\n",
      "0              NaN        NaN        NaN           NaN           NaN   \n",
      "1              NaN        NaN        NaN           NaN           NaN   \n",
      "2              NaN        NaN        NaN           NaN           NaN   \n",
      "3              NaN        NaN        NaN           NaN           NaN   \n",
      "4              NaN        NaN        NaN           NaN           NaN   \n",
      "5              NaN        NaN        NaN           NaN           NaN   \n",
      "6              NaN        NaN        NaN           NaN           NaN   \n",
      "7              NaN        NaN        NaN           NaN           NaN   \n",
      "8              NaN        NaN        NaN           NaN           NaN   \n",
      "9              NaN        NaN        NaN           NaN           NaN   \n",
      "\n",
      "   was_pressure route  defense_man_zone_type defense_coverage_type  \n",
      "0           NaN   NaN                    NaN                   NaN  \n",
      "1           NaN   NaN                    NaN                   NaN  \n",
      "2           NaN   NaN                    NaN                   NaN  \n",
      "3           NaN   NaN                    NaN                   NaN  \n",
      "4           NaN   NaN                    NaN                   NaN  \n",
      "5           NaN   NaN                    NaN                   NaN  \n",
      "6           NaN   NaN                    NaN                   NaN  \n",
      "7           NaN   NaN                    NaN                   NaN  \n",
      "8           NaN   NaN                    NaN                   NaN  \n",
      "9           NaN   NaN                    NaN                   NaN  \n",
      "\n",
      "[10 rows x 125 columns]\n",
      "Number of Rows: 997412\n",
      "Number of Columns: 125\n",
      "\n",
      "Number of duplicate rows: 0\n"
     ]
    }
   ],
   "source": [
    "summarize_df(df, display_rows=10)"
   ]
  },
  {
   "cell_type": "code",
   "execution_count": 4,
   "metadata": {},
   "outputs": [
    {
     "name": "stdout",
     "output_type": "stream",
     "text": [
      "                    Column  NA_Count\n",
      "0    two_point_conv_result    995563\n",
      "1        field_goal_result    975894\n",
      "2       extra_point_result    971013\n",
      "3             penalty_type    926828\n",
      "4             penalty_team    926808\n",
      "..                     ...       ...\n",
      "120                surface         0\n",
      "121                home_wp         0\n",
      "122                   pass         0\n",
      "123                   rush         0\n",
      "124                play_id         0\n",
      "\n",
      "[125 rows x 2 columns]\n"
     ]
    },
    {
     "data": {
      "text/html": [
       "<div>\n",
       "<style scoped>\n",
       "    .dataframe tbody tr th:only-of-type {\n",
       "        vertical-align: middle;\n",
       "    }\n",
       "\n",
       "    .dataframe tbody tr th {\n",
       "        vertical-align: top;\n",
       "    }\n",
       "\n",
       "    .dataframe thead th {\n",
       "        text-align: right;\n",
       "    }\n",
       "</style>\n",
       "<table border=\"1\" class=\"dataframe\">\n",
       "  <thead>\n",
       "    <tr style=\"text-align: right;\">\n",
       "      <th></th>\n",
       "      <th>Column</th>\n",
       "      <th>NA_Count</th>\n",
       "    </tr>\n",
       "  </thead>\n",
       "  <tbody>\n",
       "    <tr>\n",
       "      <th>0</th>\n",
       "      <td>two_point_conv_result</td>\n",
       "      <td>995563</td>\n",
       "    </tr>\n",
       "    <tr>\n",
       "      <th>1</th>\n",
       "      <td>field_goal_result</td>\n",
       "      <td>975894</td>\n",
       "    </tr>\n",
       "    <tr>\n",
       "      <th>2</th>\n",
       "      <td>extra_point_result</td>\n",
       "      <td>971013</td>\n",
       "    </tr>\n",
       "    <tr>\n",
       "      <th>3</th>\n",
       "      <td>penalty_type</td>\n",
       "      <td>926828</td>\n",
       "    </tr>\n",
       "    <tr>\n",
       "      <th>4</th>\n",
       "      <td>penalty_team</td>\n",
       "      <td>926808</td>\n",
       "    </tr>\n",
       "    <tr>\n",
       "      <th>...</th>\n",
       "      <td>...</td>\n",
       "      <td>...</td>\n",
       "    </tr>\n",
       "    <tr>\n",
       "      <th>120</th>\n",
       "      <td>surface</td>\n",
       "      <td>0</td>\n",
       "    </tr>\n",
       "    <tr>\n",
       "      <th>121</th>\n",
       "      <td>home_wp</td>\n",
       "      <td>0</td>\n",
       "    </tr>\n",
       "    <tr>\n",
       "      <th>122</th>\n",
       "      <td>pass</td>\n",
       "      <td>0</td>\n",
       "    </tr>\n",
       "    <tr>\n",
       "      <th>123</th>\n",
       "      <td>rush</td>\n",
       "      <td>0</td>\n",
       "    </tr>\n",
       "    <tr>\n",
       "      <th>124</th>\n",
       "      <td>play_id</td>\n",
       "      <td>0</td>\n",
       "    </tr>\n",
       "  </tbody>\n",
       "</table>\n",
       "<p>125 rows × 2 columns</p>\n",
       "</div>"
      ],
      "text/plain": [
       "                    Column  NA_Count\n",
       "0    two_point_conv_result    995563\n",
       "1        field_goal_result    975894\n",
       "2       extra_point_result    971013\n",
       "3             penalty_type    926828\n",
       "4             penalty_team    926808\n",
       "..                     ...       ...\n",
       "120                surface         0\n",
       "121                home_wp         0\n",
       "122                   pass         0\n",
       "123                   rush         0\n",
       "124                play_id         0\n",
       "\n",
       "[125 rows x 2 columns]"
      ]
     },
     "execution_count": 4,
     "metadata": {},
     "output_type": "execute_result"
    }
   ],
   "source": [
    "check_missing_values(df, display_rows=500)"
   ]
  },
  {
   "cell_type": "code",
   "execution_count": 5,
   "metadata": {},
   "outputs": [
    {
     "name": "stderr",
     "output_type": "stream",
     "text": [
      "c:\\Users\\alrec\\Desktop\\DATCAP Repo\\transform.py:67: FutureWarning: The default dtype for empty Series will be 'object' instead of 'float64' in a future version. Specify a dtype explicitly to silence this warning.\n",
      "  aggregated = df.groupby(group_by_list).agg(column_func_df.set_index('Column')['Function']).reset_index()\n"
     ]
    }
   ],
   "source": [
    "filtered_df = filter_to_plays(df)\n",
    "\n",
    "encoded_df = pd.get_dummies(filtered_df, columns=['field_goal_result',\n",
    "                                         'extra_point_result',\n",
    "                                         'two_point_conv_result'], \n",
    "                                         drop_first=True)\n",
    "\n",
    "group_by = ['game_id', 'posteam', 'home_team', 'away_team']\n",
    "\n",
    "column_functions = {'yards_gained': 'sum',\n",
    "                    'receiving_yards': 'sum',\n",
    "                    'rushing_yards': 'sum',\n",
    "                    'return_yards': 'sum',\n",
    "                    'incomplete_pass': 'sum',\n",
    "                    'complete_pass': 'sum',\n",
    "                    'interception': 'sum',\n",
    "                    'pass_attempt': 'sum',\n",
    "                    'rush_attempt': 'sum',\n",
    "                    'touchdown': 'sum',\n",
    "                    'pass_touchdown': 'sum',\n",
    "                    'rush_touchdown': 'sum',\n",
    "                    'return_touchdown': 'sum',\n",
    "                    'first_down': 'sum',\n",
    "                    'play': 'sum',\n",
    "                    'sack': 'sum',\n",
    "                    'fumble': 'sum',\n",
    "                    'fumble_lost': 'sum',\n",
    "                    'field_goal_result_made': 'sum',\n",
    "                    'field_goal_result_missed': 'sum',\n",
    "                    'extra_point_result_good': 'sum',\n",
    "                    'extra_point_result_failed': 'sum',\n",
    "                    'safety': 'sum',\n",
    "                    'total_home_epa': 'max',\n",
    "                    'total_away_epa': 'max',\n",
    "                    'total_home_score': 'max',\n",
    "                    'total_away_score': 'max',\n",
    "                    'total': 'max'}\n",
    "\n",
    "df_column_functions = pd.DataFrame(list(column_functions.items()), columns=['Column', 'Function'])\n",
    "\n",
    "aggregated_df = aggregate_df(encoded_df, group_by, df_column_functions)\n",
    "\n",
    "transformed_df = add_calc_stats(aggregated_df, encoded_df)"
   ]
  },
  {
   "cell_type": "code",
   "execution_count": 26,
   "metadata": {},
   "outputs": [
    {
     "name": "stdout",
     "output_type": "stream",
     "text": [
      "Mean Squared Error: 0.03\n",
      "R² Score: 0.14\n",
      "                   Feature  Coefficient\n",
      "1  first_down_rate_offense     0.846903\n",
      "3  first_down_rate_allowed    -0.337724\n",
      "2   yards_per_play_allowed    -0.013324\n",
      "4    turnover_differential     0.012198\n",
      "0   yards_per_play_offense     0.012127\n"
     ]
    }
   ],
   "source": [
    "features = ['yards_per_play_offense', 'first_down_rate_offense', 'yards_per_play_allowed', \n",
    "            'first_down_rate_allowed', 'turnover_differential']\n",
    "target_variable = 'win_percentage_season'\n",
    "\n",
    "X = transformed_df[features]\n",
    "y = transformed_df[target_variable]\n",
    "    \n",
    "X_train, X_test, y_train, y_test = train_test_split(X, y, test_size=0.2, random_state=42)\n",
    "\n",
    "linreg_model = LinearRegression()\n",
    "linreg_model.fit(X_train, y_train)\n",
    "linreg_evaluate(linreg_model, features_test = X_test, target_test = y_test)"
   ]
  },
  {
   "cell_type": "code",
   "execution_count": 19,
   "metadata": {},
   "outputs": [
    {
     "data": {
      "image/png": "[encoded data removed]",
      "text/plain": [
       "<Figure size 1000x500 with 1 Axes>"
      ]
     },
     "metadata": {},
     "output_type": "display_data"
    }
   ],
   "source": [
    "optimize_alpha(mode='both', features_train=X_train, target_train=y_train, features_test=X_test, target_test=y_test)"
   ]
  },
  {
   "cell_type": "code",
   "execution_count": 20,
   "metadata": {},
   "outputs": [
    {
     "name": "stdout",
     "output_type": "stream",
     "text": [
      "Mean Squared Error: 0.03\n",
      "R² Score: 0.14\n",
      "                   Feature  Coefficient\n",
      "1  first_down_rate_offense     0.843858\n",
      "3  first_down_rate_allowed    -0.336302\n",
      "2   yards_per_play_allowed    -0.013365\n",
      "0   yards_per_play_offense     0.012233\n",
      "4    turnover_differential     0.012199\n"
     ]
    }
   ],
   "source": [
    "ridge_model = Ridge(alpha=.05)\n",
    "ridge_model.fit(X_train, y_train)\n",
    "linreg_evaluate(ridge_model, features_test = X_test, target_test = y_test)"
   ]
  },
  {
   "cell_type": "code",
   "execution_count": 21,
   "metadata": {},
   "outputs": [
    {
     "name": "stdout",
     "output_type": "stream",
     "text": [
      "Mean Squared Error: 0.03\n",
      "R² Score: 0.11\n",
      "                   Feature  Coefficient\n",
      "0   yards_per_play_offense     0.033386\n",
      "2   yards_per_play_allowed    -0.013692\n",
      "4    turnover_differential     0.011164\n",
      "1  first_down_rate_offense     0.000000\n",
      "3  first_down_rate_allowed    -0.000000\n"
     ]
    }
   ],
   "source": [
    "lasso_model = Lasso(alpha=.01)\n",
    "lasso_model.fit(X_train, y_train)\n",
    "linreg_evaluate(lasso_model, features_test = X_test, target_test = y_test)"
   ]
  },
  {
   "cell_type": "code",
   "execution_count": 16,
   "metadata": {},
   "outputs": [
    {
     "ename": "ValueError",
     "evalue": "Unknown label type: continuous. Maybe you are trying to fit a classifier, which expects discrete classes on a regression target with continuous values.",
     "output_type": "error",
     "traceback": [
      "\u001b[1;31m---------------------------------------------------------------------------\u001b[0m",
      "\u001b[1;31mValueError\u001b[0m                                Traceback (most recent call last)",
      "Cell \u001b[1;32mIn[16], line 2\u001b[0m\n\u001b[0;32m      1\u001b[0m rf_model \u001b[38;5;241m=\u001b[39m RandomForestClassifier(n_estimators\u001b[38;5;241m=\u001b[39m\u001b[38;5;241m100\u001b[39m, random_state\u001b[38;5;241m=\u001b[39m\u001b[38;5;241m42\u001b[39m)\n\u001b[1;32m----> 2\u001b[0m \u001b[43mrf_model\u001b[49m\u001b[38;5;241;43m.\u001b[39;49m\u001b[43mfit\u001b[49m\u001b[43m(\u001b[49m\u001b[43mX_train\u001b[49m\u001b[43m,\u001b[49m\u001b[43m \u001b[49m\u001b[43my_train\u001b[49m\u001b[43m)\u001b[49m\n\u001b[0;32m      3\u001b[0m rf_model_evaluate(rf_model, features_test\u001b[38;5;241m=\u001b[39mX_test, target_test\u001b[38;5;241m=\u001b[39my_test, tree_plot\u001b[38;5;241m=\u001b[39m\u001b[38;5;28;01mTrue\u001b[39;00m, feature_importance\u001b[38;5;241m=\u001b[39m\u001b[38;5;28;01mTrue\u001b[39;00m)\n",
      "File \u001b[1;32m~\\AppData\\Local\\Packages\\PythonSoftwareFoundation.Python.3.11_qbz5n2kfra8p0\\LocalCache\\local-packages\\Python311\\site-packages\\sklearn\\base.py:1473\u001b[0m, in \u001b[0;36m_fit_context.<locals>.decorator.<locals>.wrapper\u001b[1;34m(estimator, *args, **kwargs)\u001b[0m\n\u001b[0;32m   1466\u001b[0m     estimator\u001b[38;5;241m.\u001b[39m_validate_params()\n\u001b[0;32m   1468\u001b[0m \u001b[38;5;28;01mwith\u001b[39;00m config_context(\n\u001b[0;32m   1469\u001b[0m     skip_parameter_validation\u001b[38;5;241m=\u001b[39m(\n\u001b[0;32m   1470\u001b[0m         prefer_skip_nested_validation \u001b[38;5;129;01mor\u001b[39;00m global_skip_validation\n\u001b[0;32m   1471\u001b[0m     )\n\u001b[0;32m   1472\u001b[0m ):\n\u001b[1;32m-> 1473\u001b[0m     \u001b[38;5;28;01mreturn\u001b[39;00m \u001b[43mfit_method\u001b[49m\u001b[43m(\u001b[49m\u001b[43mestimator\u001b[49m\u001b[43m,\u001b[49m\u001b[43m \u001b[49m\u001b[38;5;241;43m*\u001b[39;49m\u001b[43margs\u001b[49m\u001b[43m,\u001b[49m\u001b[43m \u001b[49m\u001b[38;5;241;43m*\u001b[39;49m\u001b[38;5;241;43m*\u001b[39;49m\u001b[43mkwargs\u001b[49m\u001b[43m)\u001b[49m\n",
      "File \u001b[1;32m~\\AppData\\Local\\Packages\\PythonSoftwareFoundation.Python.3.11_qbz5n2kfra8p0\\LocalCache\\local-packages\\Python311\\site-packages\\sklearn\\ensemble\\_forest.py:421\u001b[0m, in \u001b[0;36mBaseForest.fit\u001b[1;34m(self, X, y, sample_weight)\u001b[0m\n\u001b[0;32m    414\u001b[0m         \u001b[38;5;28;01mraise\u001b[39;00m \u001b[38;5;167;01mValueError\u001b[39;00m(\n\u001b[0;32m    415\u001b[0m             \u001b[38;5;124m\"\u001b[39m\u001b[38;5;124mSum of y is not strictly positive which \u001b[39m\u001b[38;5;124m\"\u001b[39m\n\u001b[0;32m    416\u001b[0m             \u001b[38;5;124m\"\u001b[39m\u001b[38;5;124mis necessary for Poisson regression.\u001b[39m\u001b[38;5;124m\"\u001b[39m\n\u001b[0;32m    417\u001b[0m         )\n\u001b[0;32m    419\u001b[0m \u001b[38;5;28mself\u001b[39m\u001b[38;5;241m.\u001b[39m_n_samples, \u001b[38;5;28mself\u001b[39m\u001b[38;5;241m.\u001b[39mn_outputs_ \u001b[38;5;241m=\u001b[39m y\u001b[38;5;241m.\u001b[39mshape\n\u001b[1;32m--> 421\u001b[0m y, expanded_class_weight \u001b[38;5;241m=\u001b[39m \u001b[38;5;28;43mself\u001b[39;49m\u001b[38;5;241;43m.\u001b[39;49m\u001b[43m_validate_y_class_weight\u001b[49m\u001b[43m(\u001b[49m\u001b[43my\u001b[49m\u001b[43m)\u001b[49m\n\u001b[0;32m    423\u001b[0m \u001b[38;5;28;01mif\u001b[39;00m \u001b[38;5;28mgetattr\u001b[39m(y, \u001b[38;5;124m\"\u001b[39m\u001b[38;5;124mdtype\u001b[39m\u001b[38;5;124m\"\u001b[39m, \u001b[38;5;28;01mNone\u001b[39;00m) \u001b[38;5;241m!=\u001b[39m DOUBLE \u001b[38;5;129;01mor\u001b[39;00m \u001b[38;5;129;01mnot\u001b[39;00m y\u001b[38;5;241m.\u001b[39mflags\u001b[38;5;241m.\u001b[39mcontiguous:\n\u001b[0;32m    424\u001b[0m     y \u001b[38;5;241m=\u001b[39m np\u001b[38;5;241m.\u001b[39mascontiguousarray(y, dtype\u001b[38;5;241m=\u001b[39mDOUBLE)\n",
      "File \u001b[1;32m~\\AppData\\Local\\Packages\\PythonSoftwareFoundation.Python.3.11_qbz5n2kfra8p0\\LocalCache\\local-packages\\Python311\\site-packages\\sklearn\\ensemble\\_forest.py:831\u001b[0m, in \u001b[0;36mForestClassifier._validate_y_class_weight\u001b[1;34m(self, y)\u001b[0m\n\u001b[0;32m    830\u001b[0m \u001b[38;5;28;01mdef\u001b[39;00m \u001b[38;5;21m_validate_y_class_weight\u001b[39m(\u001b[38;5;28mself\u001b[39m, y):\n\u001b[1;32m--> 831\u001b[0m     \u001b[43mcheck_classification_targets\u001b[49m\u001b[43m(\u001b[49m\u001b[43my\u001b[49m\u001b[43m)\u001b[49m\n\u001b[0;32m    833\u001b[0m     y \u001b[38;5;241m=\u001b[39m np\u001b[38;5;241m.\u001b[39mcopy(y)\n\u001b[0;32m    834\u001b[0m     expanded_class_weight \u001b[38;5;241m=\u001b[39m \u001b[38;5;28;01mNone\u001b[39;00m\n",
      "File \u001b[1;32m~\\AppData\\Local\\Packages\\PythonSoftwareFoundation.Python.3.11_qbz5n2kfra8p0\\LocalCache\\local-packages\\Python311\\site-packages\\sklearn\\utils\\multiclass.py:219\u001b[0m, in \u001b[0;36mcheck_classification_targets\u001b[1;34m(y)\u001b[0m\n\u001b[0;32m    211\u001b[0m y_type \u001b[38;5;241m=\u001b[39m type_of_target(y, input_name\u001b[38;5;241m=\u001b[39m\u001b[38;5;124m\"\u001b[39m\u001b[38;5;124my\u001b[39m\u001b[38;5;124m\"\u001b[39m)\n\u001b[0;32m    212\u001b[0m \u001b[38;5;28;01mif\u001b[39;00m y_type \u001b[38;5;129;01mnot\u001b[39;00m \u001b[38;5;129;01min\u001b[39;00m [\n\u001b[0;32m    213\u001b[0m     \u001b[38;5;124m\"\u001b[39m\u001b[38;5;124mbinary\u001b[39m\u001b[38;5;124m\"\u001b[39m,\n\u001b[0;32m    214\u001b[0m     \u001b[38;5;124m\"\u001b[39m\u001b[38;5;124mmulticlass\u001b[39m\u001b[38;5;124m\"\u001b[39m,\n\u001b[1;32m   (...)\u001b[0m\n\u001b[0;32m    217\u001b[0m     \u001b[38;5;124m\"\u001b[39m\u001b[38;5;124mmultilabel-sequences\u001b[39m\u001b[38;5;124m\"\u001b[39m,\n\u001b[0;32m    218\u001b[0m ]:\n\u001b[1;32m--> 219\u001b[0m     \u001b[38;5;28;01mraise\u001b[39;00m \u001b[38;5;167;01mValueError\u001b[39;00m(\n\u001b[0;32m    220\u001b[0m         \u001b[38;5;124mf\u001b[39m\u001b[38;5;124m\"\u001b[39m\u001b[38;5;124mUnknown label type: \u001b[39m\u001b[38;5;132;01m{\u001b[39;00my_type\u001b[38;5;132;01m}\u001b[39;00m\u001b[38;5;124m. Maybe you are trying to fit a \u001b[39m\u001b[38;5;124m\"\u001b[39m\n\u001b[0;32m    221\u001b[0m         \u001b[38;5;124m\"\u001b[39m\u001b[38;5;124mclassifier, which expects discrete classes on a \u001b[39m\u001b[38;5;124m\"\u001b[39m\n\u001b[0;32m    222\u001b[0m         \u001b[38;5;124m\"\u001b[39m\u001b[38;5;124mregression target with continuous values.\u001b[39m\u001b[38;5;124m\"\u001b[39m\n\u001b[0;32m    223\u001b[0m     )\n",
      "\u001b[1;31mValueError\u001b[0m: Unknown label type: continuous. Maybe you are trying to fit a classifier, which expects discrete classes on a regression target with continuous values."
     ]
    }
   ],
   "source": [
    "rf_model = RandomForestClassifier(n_estimators=100, random_state=42)\n",
    "rf_model.fit(X_train, y_train)\n",
    "rf_model_evaluate(rf_model, features_test=X_test, target_test=y_test, tree_plot=True, feature_importance=True)"
   ]
  },
  {
   "cell_type": "code",
   "execution_count": null,
   "metadata": {},
   "outputs": [],
   "source": [
    "logreg_model = LogisticRegression()\n",
    "logreg_model.fit(X_train, y_train)\n",
    "logreg_model_evaluate(logreg_model, X_test, y_test)"
   ]
  },
  {
   "cell_type": "code",
   "execution_count": 11,
   "metadata": {},
   "outputs": [
    {
     "name": "stdout",
     "output_type": "stream",
     "text": [
      "Would you like to save any files from the project? (y/n)\n"
     ]
    }
   ],
   "source": [
    "print(\"Would you like to save any files from the project? (y/n)\")\n",
    "i = input(\"\").strip()\n",
    "if i in {'Y', 'y', 'ex'}:\n",
    "    print(\"Would you like to save the models to a folder? (y/n)\")\n",
    "    print(\"ex = 'C:\\\\Users\\\\alrec\\\\Desktop\\\\DATCAP Repo\\\\models'\")\n",
    "    i = input(\"\").strip()\n",
    "    \n",
    "    if i in {'Y', 'y', 'ex'}:\n",
    "        if i == 'ex':\n",
    "            filepath = r'C:\\Users\\alrec\\Desktop\\DATCAP Repo\\models'\n",
    "        else:\n",
    "            filepath = input(\"Please enter the filepath for the folder to save to: \").strip()\n",
    "        \n",
    "        os.makedirs(filepath, exist_ok=True)\n",
    "        joblib.dump(linreg_model, os.path.join(filepath, 'linreg_model.pkl'))\n",
    "        joblib.dump(ridge_model, os.path.join(filepath, 'ridge_model.pkl'))\n",
    "        joblib.dump(lasso_model, os.path.join(filepath, 'lasso_model.pkl'))\n",
    "        joblib.dump(rf_model, os.path.join(filepath, 'rf_model.pkl'))\n",
    "        print('Models saved successfully')\n",
    "    \n",
    "    print(\"Would you like to save the data to a folder? (y/n)\")\n",
    "    i = input(\"\").strip()\n",
    "    \n",
    "    if i in {'Y', 'y', 'ex'}:\n",
    "        if i == 'ex':\n",
    "            filepath = r'C:\\Users\\alrec\\Desktop\\DATCAP Repo\\data'\n",
    "        else:\n",
    "            filepath = input(\"Please enter the filepath for the folder to save to: \").strip()\n",
    "        \n",
    "        os.makedirs(filepath, exist_ok=True)\n",
    "        \n",
    "        df.to_csv(os.path.join(filepath, 'df.csv'), index=False)\n",
    "        filtered_df.to_csv(os.path.join(filepath, 'filtered_df.csv'), index=False)\n",
    "        aggregated_df.to_csv(os.path.join(filepath, 'aggregated_df.csv'), index=False)\n",
    "        transformed_df.to_csv(os.path.join(filepath, 'transformed_df.csv'), index=False)\n",
    "\n",
    "        print('Data saved successfully')\n"
   ]
  }
 ],
 "metadata": {
  "kernelspec": {
   "display_name": "Python 3",
   "language": "python",
   "name": "python3"
  },
  "language_info": {
   "codemirror_mode": {
    "name": "ipython",
    "version": 3
   },
   "file_extension": ".py",
   "mimetype": "text/x-python",
   "name": "python",
   "nbconvert_exporter": "python",
   "pygments_lexer": "ipython3",
   "version": "3.11.9"
  }
 },
 "nbformat": 4,
 "nbformat_minor": 2
}
