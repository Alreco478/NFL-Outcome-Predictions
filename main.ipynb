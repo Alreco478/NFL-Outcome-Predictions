{
 "cells": [
  {
   "cell_type": "code",
   "execution_count": 1,
   "metadata": {},
   "outputs": [],
   "source": [
    "import pandas as pd\n",
    "import os\n",
    "import joblib\n",
    "from sklearn.model_selection import train_test_split\n",
    "from sklearn.preprocessing import StandardScaler\n",
    "from sklearn.linear_model import LogisticRegression\n",
    "from sklearn.ensemble import RandomForestClassifier\n",
    "import nfl_data_py as nfl\n",
    "from explore import summarize_df, check_missing_values\n",
    "from transform import filter_to_plays, remove_weeks, aggregate_df, add_calc_stats\n",
    "from model import rf_model_evaluate, logreg_model_evaluate\n",
    "from predict import predict_winner, predict_week\n",
    "from optimize import optimize_year"
   ]
  },
  {
   "cell_type": "code",
   "execution_count": 2,
   "metadata": {},
   "outputs": [],
   "source": [
    "# find best range of years to train on\n",
    "#optimize_year((2021, 2023), 2024, 'logreg')"
   ]
  },
  {
   "cell_type": "code",
   "execution_count": 3,
   "metadata": {},
   "outputs": [
    {
     "name": "stdout",
     "output_type": "stream",
     "text": [
      "2021 done.\n",
      "2022 done.\n",
      "2023 done.\n",
      "Downcasting floats.\n"
     ]
    }
   ],
   "source": [
    "# range of years to pull from\n",
    "years = list(range(2021,2024))\n",
    "\n",
    "# columns to pull from database\n",
    "columns =   ['play_id', 'game_id', 'home_team', 'away_team', 'season_type', 'week', 'posteam', 'posteam_type',\n",
    "             'side_of_field', 'yardline_100', 'game_date', 'game_seconds_remaining', 'down', 'ydsnet', 'desc',\n",
    "             'play_type', 'yards_gained', 'pass_length', 'yards_after_catch', 'field_goal_result', \n",
    "             'kick_distance', 'extra_point_result', 'two_point_conv_result', 'total_home_score', \n",
    "             'total_away_score', 'ep', 'epa', 'total_home_epa', 'total_away_epa', 'total_home_rush_epa', \n",
    "             'total_away_rush_epa', 'total_home_pass_epa', 'total_away_pass_epa', 'wp', 'def_wp', 'home_wp', \n",
    "             'away_wp', 'wpa', 'total_home_rush_wpa', 'total_away_rush_wpa', 'total_home_pass_wpa', \n",
    "             'total_away_pass_wpa', 'punt_blocked', 'first_down_rush', 'first_down_pass', \n",
    "             'first_down_penalty', 'third_down_converted', 'third_down_failed', 'fourth_down_converted', \n",
    "             'fourth_down_failed', 'incomplete_pass', 'touchback', 'interception', 'fumble_forced', \n",
    "             'fumble_not_forced', 'fumble_out_of_bounds', 'safety', 'penalty', 'fumble_lost', 'rush_attempt', \n",
    "             'pass_attempt', 'sack', 'touchdown', 'pass_touchdown', 'rush_touchdown', 'return_touchdown', \n",
    "             'extra_point_attempt', 'two_point_attempt', 'field_goal_attempt', 'kickoff_attempt', \n",
    "             'punt_attempt', 'fumble', 'complete_pass', 'passing_yards', 'receiving_yards', 'rushing_yards', \n",
    "             'return_yards', 'penalty_team', 'penalty_yards', 'penalty_type', 'season', 'series_result', \n",
    "             'weather', 'play_type_nfl', 'special_teams_play', 'drive_first_downs', \n",
    "             'drive_inside20', 'drive_ended_with_score', 'away_score', 'home_score', 'location', \n",
    "             'result', 'total', 'spread_line', 'total_line', 'surface', 'temp', 'wind', 'pass', \n",
    "             'rush', 'first_down', 'special', 'play', 'qb_epa']\n",
    "\n",
    "# create df with combined data\n",
    "df = nfl.import_pbp_data(years, downcast=True)"
   ]
  },
  {
   "cell_type": "code",
   "execution_count": 4,
   "metadata": {},
   "outputs": [
    {
     "name": "stdout",
     "output_type": "stream",
     "text": [
      "\n",
      "First 10 rows:\n",
      "   play_id          game_id old_game_id_x home_team away_team season_type  \\\n",
      "0      1.0  2021_01_ARI_TEN    2021091207       TEN       ARI         REG   \n",
      "1     40.0  2021_01_ARI_TEN    2021091207       TEN       ARI         REG   \n",
      "2     55.0  2021_01_ARI_TEN    2021091207       TEN       ARI         REG   \n",
      "3     76.0  2021_01_ARI_TEN    2021091207       TEN       ARI         REG   \n",
      "4    100.0  2021_01_ARI_TEN    2021091207       TEN       ARI         REG   \n",
      "5    122.0  2021_01_ARI_TEN    2021091207       TEN       ARI         REG   \n",
      "6    152.0  2021_01_ARI_TEN    2021091207       TEN       ARI         REG   \n",
      "7    181.0  2021_01_ARI_TEN    2021091207       TEN       ARI         REG   \n",
      "8    218.0  2021_01_ARI_TEN    2021091207       TEN       ARI         REG   \n",
      "9    253.0  2021_01_ARI_TEN    2021091207       TEN       ARI         REG   \n",
      "\n",
      "   week posteam posteam_type defteam  ...  \\\n",
      "0     1    None         None    None  ...   \n",
      "1     1     TEN         home     ARI  ...   \n",
      "2     1     TEN         home     ARI  ...   \n",
      "3     1     TEN         home     ARI  ...   \n",
      "4     1     TEN         home     ARI  ...   \n",
      "5     1     TEN         home     ARI  ...   \n",
      "6     1     ARI         away     TEN  ...   \n",
      "7     1     ARI         away     TEN  ...   \n",
      "8     1     ARI         away     TEN  ...   \n",
      "9     1     ARI         away     TEN  ...   \n",
      "\n",
      "                                     offense_players  \\\n",
      "0                                                      \n",
      "1  00-0032560;00-0036356;00-0035705;00-0036896;00...   \n",
      "2  00-0029413;00-0032764;00-0029701;00-0027648;00...   \n",
      "3  00-0029413;00-0032764;00-0029701;00-0027648;00...   \n",
      "4  00-0032355;00-0029413;00-0029701;00-0033455;00...   \n",
      "5  00-0032496;00-0036652;00-0034389;00-0035099;00...   \n",
      "6  00-0036363;00-0030564;00-0036936;00-0030155;00...   \n",
      "7  00-0036363;00-0030564;00-0036936;00-0030155;00...   \n",
      "8  00-0036363;00-0030564;00-0030155;00-0035228;00...   \n",
      "9  00-0036363;00-0034775;00-0030564;00-0035228;00...   \n",
      "\n",
      "                                     defense_players n_offense  n_defense  \\\n",
      "0                                                          0.0        0.0   \n",
      "1  00-0032496;00-0036652;00-0032355;00-0033455;00...      11.0       11.0   \n",
      "2  00-0036356;00-0035705;00-0036933;00-0035236;00...      11.0       11.0   \n",
      "3  00-0036356;00-0035705;00-0036933;00-0035236;00...      11.0       11.0   \n",
      "4  00-0036356;00-0032127;00-0035705;00-0030528;00...      11.0       11.0   \n",
      "5  00-0032560;00-0036936;00-0030155;00-0036896;00...      11.0       11.0   \n",
      "6  00-0036237;00-0033954;00-0029681;00-0034743;00...      11.0       11.0   \n",
      "7  00-0036237;00-0033954;00-0029681;00-0034743;00...      11.0       11.0   \n",
      "8  00-0036237;00-0033954;00-0029681;00-0034743;00...      11.0       11.0   \n",
      "9  00-0033954;00-0029681;00-0034743;00-0036181;00...      11.0       11.0   \n",
      "\n",
      "   ngs_air_yards  time_to_throw was_pressure  route  defense_man_zone_type  \\\n",
      "0            NaN            NaN         None   None                   None   \n",
      "1            NaN            NaN         None   None                   None   \n",
      "2            NaN            NaN         None   None                   None   \n",
      "3           2.13          2.536        False  ANGLE          ZONE_COVERAGE   \n",
      "4           9.82          2.703        False  HITCH          ZONE_COVERAGE   \n",
      "5            NaN            NaN         None   None                   None   \n",
      "6          26.98          3.303        False     GO          ZONE_COVERAGE   \n",
      "7            NaN            NaN         None   None                   None   \n",
      "8          -3.36          4.238        False   FLAT          ZONE_COVERAGE   \n",
      "9          19.24          2.536        False     GO          ZONE_COVERAGE   \n",
      "\n",
      "   defense_coverage_type  \n",
      "0                   None  \n",
      "1                   None  \n",
      "2                   None  \n",
      "3                COVER_6  \n",
      "4                COVER_6  \n",
      "5                   None  \n",
      "6                COVER_3  \n",
      "7                   None  \n",
      "8                COVER_3  \n",
      "9                COVER_4  \n",
      "\n",
      "[10 rows x 391 columns]\n",
      "Number of Rows: 149021\n",
      "Number of Columns: 391\n",
      "\n",
      "Number of duplicate rows: 0\n"
     ]
    }
   ],
   "source": [
    "# display first n rows, number of rows, number of columns, number of duplicates\n",
    "summarize_df(df, display_rows=10)"
   ]
  },
  {
   "cell_type": "code",
   "execution_count": null,
   "metadata": {},
   "outputs": [
    {
     "name": "stdout",
     "output_type": "stream",
     "text": [
      "                            Column  NA_Count\n",
      "0                    end_yard_line    149021\n",
      "1           lateral_sack_player_id    149021\n",
      "2         lateral_sack_player_name    149021\n",
      "3    tackle_for_loss_2_player_name    149021\n",
      "4      tackle_for_loss_2_player_id    149021\n",
      "..                             ...       ...\n",
      "386                  no_score_prob         0\n",
      "387                    opp_fg_prob         0\n",
      "388                opp_safety_prob         0\n",
      "389                    opp_td_prob         0\n",
      "390                        play_id         0\n",
      "\n",
      "[391 rows x 2 columns]\n"
     ]
    },
    {
     "data": {
      "text/html": [
       "<div>\n",
       "<style scoped>\n",
       "    .dataframe tbody tr th:only-of-type {\n",
       "        vertical-align: middle;\n",
       "    }\n",
       "\n",
       "    .dataframe tbody tr th {\n",
       "        vertical-align: top;\n",
       "    }\n",
       "\n",
       "    .dataframe thead th {\n",
       "        text-align: right;\n",
       "    }\n",
       "</style>\n",
       "<table border=\"1\" class=\"dataframe\">\n",
       "  <thead>\n",
       "    <tr style=\"text-align: right;\">\n",
       "      <th></th>\n",
       "      <th>Column</th>\n",
       "      <th>NA_Count</th>\n",
       "    </tr>\n",
       "  </thead>\n",
       "  <tbody>\n",
       "    <tr>\n",
       "      <th>0</th>\n",
       "      <td>end_yard_line</td>\n",
       "      <td>149021</td>\n",
       "    </tr>\n",
       "    <tr>\n",
       "      <th>1</th>\n",
       "      <td>lateral_sack_player_id</td>\n",
       "      <td>149021</td>\n",
       "    </tr>\n",
       "    <tr>\n",
       "      <th>2</th>\n",
       "      <td>lateral_sack_player_name</td>\n",
       "      <td>149021</td>\n",
       "    </tr>\n",
       "    <tr>\n",
       "      <th>3</th>\n",
       "      <td>tackle_for_loss_2_player_name</td>\n",
       "      <td>149021</td>\n",
       "    </tr>\n",
       "    <tr>\n",
       "      <th>4</th>\n",
       "      <td>tackle_for_loss_2_player_id</td>\n",
       "      <td>149021</td>\n",
       "    </tr>\n",
       "    <tr>\n",
       "      <th>...</th>\n",
       "      <td>...</td>\n",
       "      <td>...</td>\n",
       "    </tr>\n",
       "    <tr>\n",
       "      <th>386</th>\n",
       "      <td>no_score_prob</td>\n",
       "      <td>0</td>\n",
       "    </tr>\n",
       "    <tr>\n",
       "      <th>387</th>\n",
       "      <td>opp_fg_prob</td>\n",
       "      <td>0</td>\n",
       "    </tr>\n",
       "    <tr>\n",
       "      <th>388</th>\n",
       "      <td>opp_safety_prob</td>\n",
       "      <td>0</td>\n",
       "    </tr>\n",
       "    <tr>\n",
       "      <th>389</th>\n",
       "      <td>opp_td_prob</td>\n",
       "      <td>0</td>\n",
       "    </tr>\n",
       "    <tr>\n",
       "      <th>390</th>\n",
       "      <td>play_id</td>\n",
       "      <td>0</td>\n",
       "    </tr>\n",
       "  </tbody>\n",
       "</table>\n",
       "<p>391 rows × 2 columns</p>\n",
       "</div>"
      ],
      "text/plain": [
       "                            Column  NA_Count\n",
       "0                    end_yard_line    149021\n",
       "1           lateral_sack_player_id    149021\n",
       "2         lateral_sack_player_name    149021\n",
       "3    tackle_for_loss_2_player_name    149021\n",
       "4      tackle_for_loss_2_player_id    149021\n",
       "..                             ...       ...\n",
       "386                  no_score_prob         0\n",
       "387                    opp_fg_prob         0\n",
       "388                opp_safety_prob         0\n",
       "389                    opp_td_prob         0\n",
       "390                        play_id         0\n",
       "\n",
       "[391 rows x 2 columns]"
      ]
     },
     "execution_count": 5,
     "metadata": {},
     "output_type": "execute_result"
    }
   ],
   "source": [
    "# display how many nans are in each column (check_missing_values returns df of missing values)\n",
    "check_missing_values(df, display_rows=391)"
   ]
  },
  {
   "cell_type": "code",
   "execution_count": 6,
   "metadata": {},
   "outputs": [
    {
     "name": "stderr",
     "output_type": "stream",
     "text": [
      "c:\\Users\\alrec\\Desktop\\DAT Capstone\\DAT-Capstone\\transform.py:112: FutureWarning: The default dtype for empty Series will be 'object' instead of 'float64' in a future version. Specify a dtype explicitly to silence this warning.\n",
      "  aggregated = df.groupby(group_by_list).agg(column_func_df.set_index('Column')['Function']).reset_index()\n"
     ]
    }
   ],
   "source": [
    "# filter df to only include plays (gets rid of timeouts, penalties, start of game, etc.)\n",
    "filtered_df = filter_to_plays(df)\n",
    "\n",
    "# use one hot encoding on the listed columns\n",
    "columns_to_encode = ['field_goal_result',\n",
    "                     'extra_point_result',\n",
    "                     'two_point_conv_result']\n",
    "encoded_df = pd.get_dummies(filtered_df, columns=columns_to_encode, drop_first=True)\n",
    "encoded_df['penalty_yards'] = encoded_df['penalty_yards'].where(encoded_df['penalty_team'] == encoded_df['posteam'], -encoded_df['penalty_yards'])\n",
    "\n",
    "# columns to group by in aggregate_df\n",
    "group_by = ['game_id', 'posteam', 'home_team', 'away_team']\n",
    "\n",
    "# dict of columns to be included in aggregated_df and the corresponding functions to be applied\n",
    "column_functions = {'yards_gained': 'sum',\n",
    "                    'receiving_yards': 'sum',\n",
    "                    'rushing_yards': 'sum',\n",
    "                    'return_yards': 'sum',\n",
    "                    'incomplete_pass': 'sum',\n",
    "                    'complete_pass': 'sum',\n",
    "                    'interception': 'sum',\n",
    "                    'pass_attempt': 'sum',\n",
    "                    'rush_attempt': 'sum',\n",
    "                    'touchdown': 'sum',\n",
    "                    'pass_touchdown': 'sum',\n",
    "                    'rush_touchdown': 'sum',\n",
    "                    'return_touchdown': 'sum',\n",
    "                    'first_down': 'sum',\n",
    "                    'play': 'sum',\n",
    "                    'sack': 'sum',\n",
    "                    'fumble': 'sum',\n",
    "                    'fumble_lost': 'sum',\n",
    "                    'field_goal_result_made': 'sum',\n",
    "                    'field_goal_result_missed': 'sum',\n",
    "                    'extra_point_result_good': 'sum',\n",
    "                    'extra_point_result_failed': 'sum',\n",
    "                    'safety': 'sum',\n",
    "                    'total_home_epa': 'max',\n",
    "                    'total_away_epa': 'max',\n",
    "                    'total_home_score': 'max',\n",
    "                    'total_away_score': 'max',\n",
    "                    'total': 'max',\n",
    "                    'penalty_yards': 'sum'\n",
    "                    }\n",
    "\n",
    "# turn column_functions into a df\n",
    "df_column_functions = pd.DataFrame(list(column_functions.items()), columns=['Column', 'Function'])\n",
    "\n",
    "# create aggregated_df\n",
    "aggregated_df = aggregate_df(encoded_df, group_by, df_column_functions)\n",
    "\n",
    "# add calculated stats columns (win, season, yards_per_play_offense, points_per_play_offense, \n",
    "#                               first_down_rate_offense, turnovers_lost, yards_per_play_allowed, \n",
    "#                               points_per_play_allowed, first_down_rate_allowed, turnovers_gained,\n",
    "#                               turnover_differential, fg percentage, xp percentage)\n",
    "transformed_df = add_calc_stats(aggregated_df, encoded_df)"
   ]
  },
  {
   "cell_type": "code",
   "execution_count": 14,
   "metadata": {},
   "outputs": [],
   "source": [
    "# select features to be used in models\n",
    "features = ['yards_per_play_offense', 'first_down_rate_offense', 'yards_per_play_allowed', \n",
    "            'first_down_rate_allowed', 'turnover_differential']\n",
    "# select target_variable\n",
    "target_variable = 'win'\n",
    "\n",
    "# create X (df of feature columns) and y (series for the target variable)\n",
    "X = transformed_df[features]\n",
    "y = transformed_df[target_variable]\n",
    "    \n",
    "# split into train and test\n",
    "X_train, X_test, y_train, y_test = train_test_split(X, y, test_size=0.2, random_state=42)\n"
   ]
  },
  {
   "cell_type": "code",
   "execution_count": 15,
   "metadata": {},
   "outputs": [
    {
     "name": "stdout",
     "output_type": "stream",
     "text": [
      "Accuracy: 0.8099\n",
      "Confusion Matrix:\n",
      "[[125  40]\n",
      " [ 25 152]]\n",
      "Classification Report:\n",
      "              precision    recall  f1-score   support\n",
      "\n",
      "           0       0.83      0.76      0.79       165\n",
      "           1       0.79      0.86      0.82       177\n",
      "\n",
      "    accuracy                           0.81       342\n",
      "   macro avg       0.81      0.81      0.81       342\n",
      "weighted avg       0.81      0.81      0.81       342\n",
      "\n"
     ]
    },
    {
     "data": {
      "image/png": "[encoded data removed]",
      "text/plain": [
       "<Figure size 1000x600 with 1 Axes>"
      ]
     },
     "metadata": {},
     "output_type": "display_data"
    }
   ],
   "source": [
    "# create and evaluate random forest model\n",
    "rf_model = RandomForestClassifier(n_estimators=100, random_state=42)\n",
    "rf_model.fit(X_train, y_train)\n",
    "rf_model_evaluate(rf_model, features_test=X_test, target_test=y_test, tree_plot=False, feature_importance=True)"
   ]
  },
  {
   "cell_type": "code",
   "execution_count": 16,
   "metadata": {},
   "outputs": [
    {
     "name": "stdout",
     "output_type": "stream",
     "text": [
      "Accuracy: 0.8216\n",
      "Confusion Matrix:\n",
      "[[128  37]\n",
      " [ 24 153]]\n",
      "Classification Report:\n",
      "              precision    recall  f1-score   support\n",
      "\n",
      "           0       0.84      0.78      0.81       165\n",
      "           1       0.81      0.86      0.83       177\n",
      "\n",
      "    accuracy                           0.82       342\n",
      "   macro avg       0.82      0.82      0.82       342\n",
      "weighted avg       0.82      0.82      0.82       342\n",
      "\n",
      "\n",
      "Feature Importance:\n",
      "                   Feature  Coefficient  Importance\n",
      "1  first_down_rate_offense     4.016363    4.016363\n",
      "3  first_down_rate_allowed    -3.650892    3.650892\n",
      "0   yards_per_play_offense     0.903644    0.903644\n",
      "4    turnover_differential     0.885962    0.885962\n",
      "2   yards_per_play_allowed    -0.860012    0.860012\n"
     ]
    },
    {
     "data": {
      "image/png": "[encoded data removed]",
      "text/plain": [
       "<Figure size 1000x600 with 1 Axes>"
      ]
     },
     "metadata": {},
     "output_type": "display_data"
    },
    {
     "name": "stdout",
     "output_type": "stream",
     "text": [
      "      Actual  Predicted  Probability\n",
      "567        0          0     0.483679\n",
      "1325       1          1     0.768074\n",
      "1350       0          0     0.398612\n",
      "115        0          0     0.079073\n",
      "453        0          1     0.762651\n",
      "1368       1          1     0.676960\n",
      "483        1          0     0.194575\n",
      "614        0          0     0.029774\n",
      "1185       0          0     0.062028\n",
      "915        1          1     0.800286\n"
     ]
    }
   ],
   "source": [
    "# create and evaluate logistic regression model\n",
    "logreg_model = LogisticRegression()\n",
    "logreg_model.fit(X_train, y_train)\n",
    "print(logreg_model_evaluate(logreg_model, X_test, y_test, feature_importance=True).head(10))"
   ]
  },
  {
   "cell_type": "code",
   "execution_count": 17,
   "metadata": {},
   "outputs": [
    {
     "name": "stdout",
     "output_type": "stream",
     "text": [
      "2024 done.\n",
      "Downcasting floats.\n",
      "Unique weeks in the DataFrame: [1, 2, 3, 4, 5, 6, 7, 8, 9, 10, 11, 12, 13, 14, 15, 16, 17, 18]\n",
      "Weeks removed: []\n"
     ]
    },
    {
     "ename": "ValueError",
     "evalue": "DataFrame is missing one or more required columns",
     "output_type": "error",
     "traceback": [
      "\u001b[1;31m---------------------------------------------------------------------------\u001b[0m",
      "\u001b[1;31mValueError\u001b[0m                                Traceback (most recent call last)",
      "Cell \u001b[1;32mIn[17], line 16\u001b[0m\n\u001b[0;32m     13\u001b[0m encoded_df_current[\u001b[38;5;124m'\u001b[39m\u001b[38;5;124mpenalty_yards\u001b[39m\u001b[38;5;124m'\u001b[39m] \u001b[38;5;241m=\u001b[39m encoded_df_current[\u001b[38;5;124m'\u001b[39m\u001b[38;5;124mpenalty_yards\u001b[39m\u001b[38;5;124m'\u001b[39m]\u001b[38;5;241m.\u001b[39mwhere(encoded_df_current[\u001b[38;5;124m'\u001b[39m\u001b[38;5;124mpenalty_team\u001b[39m\u001b[38;5;124m'\u001b[39m] \u001b[38;5;241m==\u001b[39m encoded_df_current[\u001b[38;5;124m'\u001b[39m\u001b[38;5;124mposteam\u001b[39m\u001b[38;5;124m'\u001b[39m], \u001b[38;5;241m-\u001b[39mencoded_df_current[\u001b[38;5;124m'\u001b[39m\u001b[38;5;124mpenalty_yards\u001b[39m\u001b[38;5;124m'\u001b[39m])\n\u001b[0;32m     15\u001b[0m \u001b[38;5;66;03m# create aggregated_df_current\u001b[39;00m\n\u001b[1;32m---> 16\u001b[0m aggregated_df_current \u001b[38;5;241m=\u001b[39m \u001b[43maggregate_df\u001b[49m\u001b[43m(\u001b[49m\u001b[43mencoded_df_current\u001b[49m\u001b[43m,\u001b[49m\u001b[43m \u001b[49m\u001b[43mgroup_by\u001b[49m\u001b[43m,\u001b[49m\u001b[43m \u001b[49m\u001b[43mdf_column_functions\u001b[49m\u001b[43m)\u001b[49m\n\u001b[0;32m     18\u001b[0m \u001b[38;5;66;03m# create transformed_df_current\u001b[39;00m\n\u001b[0;32m     19\u001b[0m transformed_df_current \u001b[38;5;241m=\u001b[39m add_calc_stats(aggregated_df_current, encoded_df_current)\n",
      "File \u001b[1;32mc:\\Users\\alrec\\Desktop\\DAT Capstone\\DAT-Capstone\\transform.py:109\u001b[0m, in \u001b[0;36maggregate_df\u001b[1;34m(df, group_by_list, column_func_df)\u001b[0m\n\u001b[0;32m    106\u001b[0m required_columns \u001b[38;5;241m=\u001b[39m group_by_list \u001b[38;5;241m+\u001b[39m column_func_df[\u001b[38;5;124m'\u001b[39m\u001b[38;5;124mColumn\u001b[39m\u001b[38;5;124m'\u001b[39m]\u001b[38;5;241m.\u001b[39mtolist()\n\u001b[0;32m    108\u001b[0m \u001b[38;5;28;01mif\u001b[39;00m \u001b[38;5;129;01mnot\u001b[39;00m \u001b[38;5;28mall\u001b[39m(col \u001b[38;5;129;01min\u001b[39;00m df\u001b[38;5;241m.\u001b[39mcolumns \u001b[38;5;28;01mfor\u001b[39;00m col \u001b[38;5;129;01min\u001b[39;00m required_columns):\n\u001b[1;32m--> 109\u001b[0m     \u001b[38;5;28;01mraise\u001b[39;00m \u001b[38;5;167;01mValueError\u001b[39;00m(\u001b[38;5;124m\"\u001b[39m\u001b[38;5;124mDataFrame is missing one or more required columns\u001b[39m\u001b[38;5;124m\"\u001b[39m)\n\u001b[0;32m    111\u001b[0m \u001b[38;5;66;03m# Perform the aggregation\u001b[39;00m\n\u001b[0;32m    112\u001b[0m aggregated \u001b[38;5;241m=\u001b[39m df\u001b[38;5;241m.\u001b[39mgroupby(group_by_list)\u001b[38;5;241m.\u001b[39magg(column_func_df\u001b[38;5;241m.\u001b[39mset_index(\u001b[38;5;124m'\u001b[39m\u001b[38;5;124mColumn\u001b[39m\u001b[38;5;124m'\u001b[39m)[\u001b[38;5;124m'\u001b[39m\u001b[38;5;124mFunction\u001b[39m\u001b[38;5;124m'\u001b[39m])\u001b[38;5;241m.\u001b[39mreset_index()\n",
      "\u001b[1;31mValueError\u001b[0m: DataFrame is missing one or more required columns"
     ]
    }
   ],
   "source": [
    "# load the current season's play by play data\n",
    "df_current = nfl.import_pbp_data([2024], columns, downcast=True)\n",
    "\n",
    "# create filtered_df_current\n",
    "filtered_df_current = filter_to_plays(df_current)\n",
    "\n",
    "# remove selected weeks\n",
    "weeks_to_remove = []\n",
    "filtered_df_current = remove_weeks(filtered_df_current, weeks_to_remove)\n",
    "\n",
    "# create encoded_df_current\n",
    "encoded_df_current = pd.get_dummies(filtered_df_current, columns=columns_to_encode, drop_first=True)\n",
    "encoded_df_current['penalty_yards'] = encoded_df_current['penalty_yards'].where(encoded_df_current['penalty_team'] == encoded_df_current['posteam'], -encoded_df_current['penalty_yards'])\n",
    "\n",
    "# create aggregated_df_current\n",
    "aggregated_df_current = aggregate_df(encoded_df_current, group_by, df_column_functions)\n",
    "\n",
    "# create transformed_df_current\n",
    "transformed_df_current = add_calc_stats(aggregated_df_current, encoded_df_current)"
   ]
  },
  {
   "cell_type": "code",
   "execution_count": null,
   "metadata": {},
   "outputs": [
    {
     "name": "stderr",
     "output_type": "stream",
     "text": [
      "c:\\Users\\alrec\\Desktop\\DAT Capstone\\DAT-Capstone\\transform.py:112: FutureWarning: The default dtype for empty Series will be 'object' instead of 'float64' in a future version. Specify a dtype explicitly to silence this warning.\n",
      "  aggregated = df.groupby(group_by_list).agg(column_func_df.set_index('Column')['Function']).reset_index()\n"
     ]
    }
   ],
   "source": [
    "# column functions parameter for aggregate_df the second time\n",
    "column_functions = {'turnover_differential': 'mean',\n",
    "                    'first_down_rate_allowed': 'mean',\n",
    "                    'first_down_rate_offense': 'mean',\n",
    "                    'yards_per_play_allowed': 'mean',\n",
    "                    'yards_per_play_offense': 'mean'}\n",
    "df_column_functions = pd.DataFrame(list(column_functions.items()), columns=['Column', 'Function'])\n",
    "\n",
    "# aggregate season_team_df\n",
    "season_team_df_2024 = aggregate_df(transformed_df_current, ['posteam'], df_column_functions)"
   ]
  },
  {
   "cell_type": "code",
   "execution_count": null,
   "metadata": {},
   "outputs": [],
   "source": [
    "# identify features from season_team_df_current\n",
    "features = season_team_df_2024[['yards_per_play_offense', 'first_down_rate_offense', 'yards_per_play_allowed', \n",
    "                                'first_down_rate_allowed', 'turnover_differential']]\n",
    "\n",
    "# scale features\n",
    "scaler = StandardScaler()\n",
    "scaled_features = scaler.fit_transform(features)\n",
    "\n",
    "# create scaled_df_current\n",
    "scaled_df_2024 = pd.DataFrame(scaled_features, columns=features.columns)\n",
    "scaled_df_2024['posteam'] = season_team_df_2024['posteam']\n",
    "scaled_df_2024 = scaled_df_2024.reset_index(drop=True)"
   ]
  },
  {
   "cell_type": "code",
   "execution_count": null,
   "metadata": {},
   "outputs": [
    {
     "ename": "ValueError",
     "evalue": "The feature names should match those that were passed during fit.\nFeature names seen at fit time, yet now missing:\n- interception\n- penalty_yards\n- sack\n",
     "output_type": "error",
     "traceback": [
      "\u001b[1;31m---------------------------------------------------------------------------\u001b[0m",
      "\u001b[1;31mValueError\u001b[0m                                Traceback (most recent call last)",
      "Cell \u001b[1;32mIn[13], line 4\u001b[0m\n\u001b[0;32m      2\u001b[0m home \u001b[38;5;241m=\u001b[39m \u001b[38;5;124m'\u001b[39m\u001b[38;5;124mBAL\u001b[39m\u001b[38;5;124m'\u001b[39m\n\u001b[0;32m      3\u001b[0m away \u001b[38;5;241m=\u001b[39m \u001b[38;5;124m'\u001b[39m\u001b[38;5;124mCAR\u001b[39m\u001b[38;5;124m'\u001b[39m\n\u001b[1;32m----> 4\u001b[0m predicted_winner, winning_probability, home_prob, away_prob \u001b[38;5;241m=\u001b[39m \u001b[43mpredict_winner\u001b[49m\u001b[43m(\u001b[49m\u001b[43mlogreg_model\u001b[49m\u001b[43m,\u001b[49m\u001b[43m \u001b[49m\u001b[43mscaled_df_2024\u001b[49m\u001b[43m,\u001b[49m\u001b[43m \u001b[49m\u001b[43mhome\u001b[49m\u001b[43m,\u001b[49m\u001b[43m \u001b[49m\u001b[43maway\u001b[49m\u001b[43m)\u001b[49m\n\u001b[0;32m      5\u001b[0m \u001b[38;5;28mprint\u001b[39m(\u001b[38;5;124mf\u001b[39m\u001b[38;5;124m\"\u001b[39m\u001b[38;5;124mPredicted Winner: \u001b[39m\u001b[38;5;132;01m{\u001b[39;00mpredicted_winner\u001b[38;5;132;01m}\u001b[39;00m\u001b[38;5;124m, Probability: \u001b[39m\u001b[38;5;132;01m{\u001b[39;00mwinning_probability\u001b[38;5;132;01m:\u001b[39;00m\u001b[38;5;124m.2f\u001b[39m\u001b[38;5;132;01m}\u001b[39;00m\u001b[38;5;124m%, home: \u001b[39m\u001b[38;5;132;01m{\u001b[39;00mhome_prob\u001b[38;5;132;01m}\u001b[39;00m\u001b[38;5;124m, away: \u001b[39m\u001b[38;5;132;01m{\u001b[39;00maway_prob\u001b[38;5;132;01m}\u001b[39;00m\u001b[38;5;124m\"\u001b[39m)\n",
      "File \u001b[1;32mc:\\Users\\alrec\\Desktop\\DAT Capstone\\DAT-Capstone\\predict.py:47\u001b[0m, in \u001b[0;36mpredict_winner\u001b[1;34m(model, df, home_team, away_team)\u001b[0m\n\u001b[0;32m     42\u001b[0m features \u001b[38;5;241m=\u001b[39m pd\u001b[38;5;241m.\u001b[39mDataFrame([home_row\u001b[38;5;241m.\u001b[39mvalues[\u001b[38;5;241m0\u001b[39m][:\u001b[38;5;241m-\u001b[39m\u001b[38;5;241m1\u001b[39m], away_row\u001b[38;5;241m.\u001b[39mvalues[\u001b[38;5;241m0\u001b[39m][:\u001b[38;5;241m-\u001b[39m\u001b[38;5;241m1\u001b[39m]], \n\u001b[0;32m     43\u001b[0m                         index\u001b[38;5;241m=\u001b[39m[\u001b[38;5;124m'\u001b[39m\u001b[38;5;124mhome\u001b[39m\u001b[38;5;124m'\u001b[39m, \u001b[38;5;124m'\u001b[39m\u001b[38;5;124maway\u001b[39m\u001b[38;5;124m'\u001b[39m], \n\u001b[0;32m     44\u001b[0m                         columns\u001b[38;5;241m=\u001b[39mdf\u001b[38;5;241m.\u001b[39mcolumns[:\u001b[38;5;241m-\u001b[39m\u001b[38;5;241m1\u001b[39m])\n\u001b[0;32m     46\u001b[0m \u001b[38;5;66;03m# Make predictions\u001b[39;00m\n\u001b[1;32m---> 47\u001b[0m probabilities \u001b[38;5;241m=\u001b[39m \u001b[43mmodel\u001b[49m\u001b[38;5;241;43m.\u001b[39;49m\u001b[43mpredict_proba\u001b[49m\u001b[43m(\u001b[49m\u001b[43mfeatures\u001b[49m\u001b[43m)\u001b[49m\n\u001b[0;32m     49\u001b[0m \u001b[38;5;66;03m# Get the predicted winner based on probabilities\u001b[39;00m\n\u001b[0;32m     50\u001b[0m predicted_winner \u001b[38;5;241m=\u001b[39m home_team \u001b[38;5;28;01mif\u001b[39;00m probabilities[\u001b[38;5;241m0\u001b[39m][\u001b[38;5;241m1\u001b[39m] \u001b[38;5;241m>\u001b[39m probabilities[\u001b[38;5;241m1\u001b[39m][\u001b[38;5;241m1\u001b[39m] \u001b[38;5;28;01melse\u001b[39;00m away_team\n",
      "File \u001b[1;32m~\\AppData\\Local\\Packages\\PythonSoftwareFoundation.Python.3.11_qbz5n2kfra8p0\\LocalCache\\local-packages\\Python311\\site-packages\\sklearn\\linear_model\\_logistic.py:1431\u001b[0m, in \u001b[0;36mLogisticRegression.predict_proba\u001b[1;34m(self, X)\u001b[0m\n\u001b[0;32m   1423\u001b[0m ovr \u001b[38;5;241m=\u001b[39m \u001b[38;5;28mself\u001b[39m\u001b[38;5;241m.\u001b[39mmulti_class \u001b[38;5;129;01min\u001b[39;00m [\u001b[38;5;124m\"\u001b[39m\u001b[38;5;124movr\u001b[39m\u001b[38;5;124m\"\u001b[39m, \u001b[38;5;124m\"\u001b[39m\u001b[38;5;124mwarn\u001b[39m\u001b[38;5;124m\"\u001b[39m] \u001b[38;5;129;01mor\u001b[39;00m (\n\u001b[0;32m   1424\u001b[0m     \u001b[38;5;28mself\u001b[39m\u001b[38;5;241m.\u001b[39mmulti_class \u001b[38;5;129;01min\u001b[39;00m [\u001b[38;5;124m\"\u001b[39m\u001b[38;5;124mauto\u001b[39m\u001b[38;5;124m\"\u001b[39m, \u001b[38;5;124m\"\u001b[39m\u001b[38;5;124mdeprecated\u001b[39m\u001b[38;5;124m\"\u001b[39m]\n\u001b[0;32m   1425\u001b[0m     \u001b[38;5;129;01mand\u001b[39;00m (\n\u001b[1;32m   (...)\u001b[0m\n\u001b[0;32m   1428\u001b[0m     )\n\u001b[0;32m   1429\u001b[0m )\n\u001b[0;32m   1430\u001b[0m \u001b[38;5;28;01mif\u001b[39;00m ovr:\n\u001b[1;32m-> 1431\u001b[0m     \u001b[38;5;28;01mreturn\u001b[39;00m \u001b[38;5;28;43msuper\u001b[39;49m\u001b[43m(\u001b[49m\u001b[43m)\u001b[49m\u001b[38;5;241;43m.\u001b[39;49m\u001b[43m_predict_proba_lr\u001b[49m\u001b[43m(\u001b[49m\u001b[43mX\u001b[49m\u001b[43m)\u001b[49m\n\u001b[0;32m   1432\u001b[0m \u001b[38;5;28;01melse\u001b[39;00m:\n\u001b[0;32m   1433\u001b[0m     decision \u001b[38;5;241m=\u001b[39m \u001b[38;5;28mself\u001b[39m\u001b[38;5;241m.\u001b[39mdecision_function(X)\n",
      "File \u001b[1;32m~\\AppData\\Local\\Packages\\PythonSoftwareFoundation.Python.3.11_qbz5n2kfra8p0\\LocalCache\\local-packages\\Python311\\site-packages\\sklearn\\linear_model\\_base.py:397\u001b[0m, in \u001b[0;36mLinearClassifierMixin._predict_proba_lr\u001b[1;34m(self, X)\u001b[0m\n\u001b[0;32m    390\u001b[0m \u001b[38;5;28;01mdef\u001b[39;00m \u001b[38;5;21m_predict_proba_lr\u001b[39m(\u001b[38;5;28mself\u001b[39m, X):\n\u001b[0;32m    391\u001b[0m \u001b[38;5;250m    \u001b[39m\u001b[38;5;124;03m\"\"\"Probability estimation for OvR logistic regression.\u001b[39;00m\n\u001b[0;32m    392\u001b[0m \n\u001b[0;32m    393\u001b[0m \u001b[38;5;124;03m    Positive class probabilities are computed as\u001b[39;00m\n\u001b[0;32m    394\u001b[0m \u001b[38;5;124;03m    1. / (1. + np.exp(-self.decision_function(X)));\u001b[39;00m\n\u001b[0;32m    395\u001b[0m \u001b[38;5;124;03m    multiclass is handled by normalizing that over all classes.\u001b[39;00m\n\u001b[0;32m    396\u001b[0m \u001b[38;5;124;03m    \"\"\"\u001b[39;00m\n\u001b[1;32m--> 397\u001b[0m     prob \u001b[38;5;241m=\u001b[39m \u001b[38;5;28;43mself\u001b[39;49m\u001b[38;5;241;43m.\u001b[39;49m\u001b[43mdecision_function\u001b[49m\u001b[43m(\u001b[49m\u001b[43mX\u001b[49m\u001b[43m)\u001b[49m\n\u001b[0;32m    398\u001b[0m     expit(prob, out\u001b[38;5;241m=\u001b[39mprob)\n\u001b[0;32m    399\u001b[0m     \u001b[38;5;28;01mif\u001b[39;00m prob\u001b[38;5;241m.\u001b[39mndim \u001b[38;5;241m==\u001b[39m \u001b[38;5;241m1\u001b[39m:\n",
      "File \u001b[1;32m~\\AppData\\Local\\Packages\\PythonSoftwareFoundation.Python.3.11_qbz5n2kfra8p0\\LocalCache\\local-packages\\Python311\\site-packages\\sklearn\\linear_model\\_base.py:363\u001b[0m, in \u001b[0;36mLinearClassifierMixin.decision_function\u001b[1;34m(self, X)\u001b[0m\n\u001b[0;32m    360\u001b[0m check_is_fitted(\u001b[38;5;28mself\u001b[39m)\n\u001b[0;32m    361\u001b[0m xp, _ \u001b[38;5;241m=\u001b[39m get_namespace(X)\n\u001b[1;32m--> 363\u001b[0m X \u001b[38;5;241m=\u001b[39m \u001b[38;5;28;43mself\u001b[39;49m\u001b[38;5;241;43m.\u001b[39;49m\u001b[43m_validate_data\u001b[49m\u001b[43m(\u001b[49m\u001b[43mX\u001b[49m\u001b[43m,\u001b[49m\u001b[43m \u001b[49m\u001b[43maccept_sparse\u001b[49m\u001b[38;5;241;43m=\u001b[39;49m\u001b[38;5;124;43m\"\u001b[39;49m\u001b[38;5;124;43mcsr\u001b[39;49m\u001b[38;5;124;43m\"\u001b[39;49m\u001b[43m,\u001b[49m\u001b[43m \u001b[49m\u001b[43mreset\u001b[49m\u001b[38;5;241;43m=\u001b[39;49m\u001b[38;5;28;43;01mFalse\u001b[39;49;00m\u001b[43m)\u001b[49m\n\u001b[0;32m    364\u001b[0m scores \u001b[38;5;241m=\u001b[39m safe_sparse_dot(X, \u001b[38;5;28mself\u001b[39m\u001b[38;5;241m.\u001b[39mcoef_\u001b[38;5;241m.\u001b[39mT, dense_output\u001b[38;5;241m=\u001b[39m\u001b[38;5;28;01mTrue\u001b[39;00m) \u001b[38;5;241m+\u001b[39m \u001b[38;5;28mself\u001b[39m\u001b[38;5;241m.\u001b[39mintercept_\n\u001b[0;32m    365\u001b[0m \u001b[38;5;28;01mreturn\u001b[39;00m xp\u001b[38;5;241m.\u001b[39mreshape(scores, (\u001b[38;5;241m-\u001b[39m\u001b[38;5;241m1\u001b[39m,)) \u001b[38;5;28;01mif\u001b[39;00m scores\u001b[38;5;241m.\u001b[39mshape[\u001b[38;5;241m1\u001b[39m] \u001b[38;5;241m==\u001b[39m \u001b[38;5;241m1\u001b[39m \u001b[38;5;28;01melse\u001b[39;00m scores\n",
      "File \u001b[1;32m~\\AppData\\Local\\Packages\\PythonSoftwareFoundation.Python.3.11_qbz5n2kfra8p0\\LocalCache\\local-packages\\Python311\\site-packages\\sklearn\\base.py:608\u001b[0m, in \u001b[0;36mBaseEstimator._validate_data\u001b[1;34m(self, X, y, reset, validate_separately, cast_to_ndarray, **check_params)\u001b[0m\n\u001b[0;32m    537\u001b[0m \u001b[38;5;28;01mdef\u001b[39;00m \u001b[38;5;21m_validate_data\u001b[39m(\n\u001b[0;32m    538\u001b[0m     \u001b[38;5;28mself\u001b[39m,\n\u001b[0;32m    539\u001b[0m     X\u001b[38;5;241m=\u001b[39m\u001b[38;5;124m\"\u001b[39m\u001b[38;5;124mno_validation\u001b[39m\u001b[38;5;124m\"\u001b[39m,\n\u001b[1;32m   (...)\u001b[0m\n\u001b[0;32m    544\u001b[0m     \u001b[38;5;241m*\u001b[39m\u001b[38;5;241m*\u001b[39mcheck_params,\n\u001b[0;32m    545\u001b[0m ):\n\u001b[0;32m    546\u001b[0m \u001b[38;5;250m    \u001b[39m\u001b[38;5;124;03m\"\"\"Validate input data and set or check the `n_features_in_` attribute.\u001b[39;00m\n\u001b[0;32m    547\u001b[0m \n\u001b[0;32m    548\u001b[0m \u001b[38;5;124;03m    Parameters\u001b[39;00m\n\u001b[1;32m   (...)\u001b[0m\n\u001b[0;32m    606\u001b[0m \u001b[38;5;124;03m        validated.\u001b[39;00m\n\u001b[0;32m    607\u001b[0m \u001b[38;5;124;03m    \"\"\"\u001b[39;00m\n\u001b[1;32m--> 608\u001b[0m     \u001b[38;5;28;43mself\u001b[39;49m\u001b[38;5;241;43m.\u001b[39;49m\u001b[43m_check_feature_names\u001b[49m\u001b[43m(\u001b[49m\u001b[43mX\u001b[49m\u001b[43m,\u001b[49m\u001b[43m \u001b[49m\u001b[43mreset\u001b[49m\u001b[38;5;241;43m=\u001b[39;49m\u001b[43mreset\u001b[49m\u001b[43m)\u001b[49m\n\u001b[0;32m    610\u001b[0m     \u001b[38;5;28;01mif\u001b[39;00m y \u001b[38;5;129;01mis\u001b[39;00m \u001b[38;5;28;01mNone\u001b[39;00m \u001b[38;5;129;01mand\u001b[39;00m \u001b[38;5;28mself\u001b[39m\u001b[38;5;241m.\u001b[39m_get_tags()[\u001b[38;5;124m\"\u001b[39m\u001b[38;5;124mrequires_y\u001b[39m\u001b[38;5;124m\"\u001b[39m]:\n\u001b[0;32m    611\u001b[0m         \u001b[38;5;28;01mraise\u001b[39;00m \u001b[38;5;167;01mValueError\u001b[39;00m(\n\u001b[0;32m    612\u001b[0m             \u001b[38;5;124mf\u001b[39m\u001b[38;5;124m\"\u001b[39m\u001b[38;5;124mThis \u001b[39m\u001b[38;5;132;01m{\u001b[39;00m\u001b[38;5;28mself\u001b[39m\u001b[38;5;241m.\u001b[39m\u001b[38;5;18m__class__\u001b[39m\u001b[38;5;241m.\u001b[39m\u001b[38;5;18m__name__\u001b[39m\u001b[38;5;132;01m}\u001b[39;00m\u001b[38;5;124m estimator \u001b[39m\u001b[38;5;124m\"\u001b[39m\n\u001b[0;32m    613\u001b[0m             \u001b[38;5;124m\"\u001b[39m\u001b[38;5;124mrequires y to be passed, but the target y is None.\u001b[39m\u001b[38;5;124m\"\u001b[39m\n\u001b[0;32m    614\u001b[0m         )\n",
      "File \u001b[1;32m~\\AppData\\Local\\Packages\\PythonSoftwareFoundation.Python.3.11_qbz5n2kfra8p0\\LocalCache\\local-packages\\Python311\\site-packages\\sklearn\\base.py:535\u001b[0m, in \u001b[0;36mBaseEstimator._check_feature_names\u001b[1;34m(self, X, reset)\u001b[0m\n\u001b[0;32m    530\u001b[0m \u001b[38;5;28;01mif\u001b[39;00m \u001b[38;5;129;01mnot\u001b[39;00m missing_names \u001b[38;5;129;01mand\u001b[39;00m \u001b[38;5;129;01mnot\u001b[39;00m unexpected_names:\n\u001b[0;32m    531\u001b[0m     message \u001b[38;5;241m+\u001b[39m\u001b[38;5;241m=\u001b[39m (\n\u001b[0;32m    532\u001b[0m         \u001b[38;5;124m\"\u001b[39m\u001b[38;5;124mFeature names must be in the same order as they were in fit.\u001b[39m\u001b[38;5;130;01m\\n\u001b[39;00m\u001b[38;5;124m\"\u001b[39m\n\u001b[0;32m    533\u001b[0m     )\n\u001b[1;32m--> 535\u001b[0m \u001b[38;5;28;01mraise\u001b[39;00m \u001b[38;5;167;01mValueError\u001b[39;00m(message)\n",
      "\u001b[1;31mValueError\u001b[0m: The feature names should match those that were passed during fit.\nFeature names seen at fit time, yet now missing:\n- interception\n- penalty_yards\n- sack\n"
     ]
    }
   ],
   "source": [
    "# predict the winner of an nfl game\n",
    "home = 'BAL'\n",
    "away = 'CAR'\n",
    "predicted_winner, winning_probability, home_prob, away_prob = predict_winner(logreg_model, scaled_df_2024, home, away)\n",
    "print(f\"Predicted Winner: {predicted_winner}, Probability: {winning_probability:.2f}%, home: {home_prob}, away: {away_prob}\")"
   ]
  },
  {
   "cell_type": "code",
   "execution_count": null,
   "metadata": {},
   "outputs": [
    {
     "name": "stdout",
     "output_type": "stream",
     "text": [
      "   Home Away Predicted Winner  Winning Probability (%)  \\\n",
      "0   DAL  HOU              HOU                     5.00   \n",
      "1    NE   LA               LA                     5.00   \n",
      "2   DET  JAX              DET                     4.93   \n",
      "3    NO  CLE               NO                     4.99   \n",
      "4   MIA   LV              MIA                     4.24   \n",
      "5   TEN  MIN              MIN                     1.64   \n",
      "6   NYJ  IND              NYJ                     4.29   \n",
      "7   LAC  CIN              LAC                     1.82   \n",
      "8    SF  SEA               SF                     2.02   \n",
      "9   DEN  ATL              DEN                     0.93   \n",
      "10  CHI   GB              CHI                     0.88   \n",
      "11  PHI  WAS              PHI                     0.19   \n",
      "12  PIT  WAS              PIT                     0.18   \n",
      "13  BUF   KC               KC                     0.03   \n",
      "\n",
      "    Home Win Probability (%)  Away Win Probability (%)  \n",
      "0                       0.00                      0.92  \n",
      "1                       0.00                      0.18  \n",
      "2                       1.00                      0.01  \n",
      "3                       0.29                      0.00  \n",
      "4                       0.05                      0.00  \n",
      "5                       0.51                      1.00  \n",
      "6                       0.98                      0.07  \n",
      "7                       0.94                      0.44  \n",
      "8                       0.99                      0.42  \n",
      "9                       0.86                      0.59  \n",
      "10                      0.46                      0.32  \n",
      "11                      1.00                      0.92  \n",
      "12                      0.99                      0.92  \n",
      "13                      0.99                      1.00  \n"
     ]
    }
   ],
   "source": [
    "# predict a week of nfl games\n",
    "week_schedule = [\n",
    "    ('DEN', 'BUF'),\n",
    "    ('LAC', 'HOU'),\n",
    "    ('PIT', 'BAL'),\n",
    "    ('GB', 'PHI'),\n",
    "    ('WAS', 'TB'),\n",
    "    ('MIN', 'LA')\n",
    "]\n",
    "\n",
    "predictions_df = predict_week(logreg_model, scaled_df_2024, week_schedule)\n",
    "print(predictions_df)"
   ]
  },
  {
   "cell_type": "code",
   "execution_count": null,
   "metadata": {},
   "outputs": [
    {
     "name": "stdout",
     "output_type": "stream",
     "text": [
      "models saved\n",
      "Dataframes saved successfully\n"
     ]
    }
   ],
   "source": [
    "# download any models or datasets\n",
    "i = input(\"Would you like to save any files from the project? (y/n)\")\n",
    "if i in {'Y','y', 'ex'}:\n",
    "    i = input(\"Would you like to save the models to a folder? (y/n)\")\n",
    "    if i in {'Y','y', 'ex'}:\n",
    "        if i == 'ex':\n",
    "            filepath = r'C:/Users/alrec/Desktop/DAT Capstone/models'\n",
    "        else:\n",
    "            filepath = input(\"Please enter the filepath for the folder to save to: \")\n",
    "        os.makedirs(filepath, exist_ok=True)\n",
    "        #joblib.dump(linreg_model, f'{filepath}\\linreg_model.pkl')\n",
    "        #joblib.dump(ridge_model, f'{filepath}/ridge_model.pkl')\n",
    "        #joblib.dump(lasso_model, f'{filepath}\\lasso_model.pkl')\n",
    "        joblib.dump(rf_model, f'{filepath}/rf_model.pkl')\n",
    "        joblib.dump(logreg_model, f'{filepath}/logreg_model.pkl')\n",
    "        print('models saved')\n",
    "    \n",
    "    i = input(\"Would you like to save the data to a folder? (y/n)\").strip()\n",
    "\n",
    "    if i in {'Y', 'y', 'ex'}:\n",
    "        if i == 'ex':\n",
    "            filepath = r'C:/Users/alrec/Desktop/DAT Capstone/dataframes'\n",
    "        else:\n",
    "            filepath = input(\"Please enter the filepath for the folder to save to: \").strip()\n",
    "        \n",
    "        os.makedirs(filepath, exist_ok=True)\n",
    "        \n",
    "        df.to_csv(os.path.join(filepath, 'df.csv'), index=False)\n",
    "        filtered_df.to_csv(os.path.join(filepath, 'filtered_df.csv'), index=False)\n",
    "        encoded_df.to_csv(os.path.join(filepath, 'encoded_df.csv'), index=False)\n",
    "        aggregated_df.to_csv(os.path.join(filepath, 'aggregated_df.csv'), index=False)\n",
    "        transformed_df.to_csv(os.path.join(filepath, 'transformed_df.csv'), index=False)\n",
    "\n",
    "        df_current.to_csv(os.path.join(filepath, 'df_current.csv'), index=False)\n",
    "        filtered_df_current.to_csv(os.path.join(filepath, 'filtered_df_current.csv'), index=False)\n",
    "        encoded_df_current.to_csv(os.path.join(filepath, 'encoded_df_current.csv'), index=False)\n",
    "        aggregated_df_current.to_csv(os.path.join(filepath, 'aggregated_df_current.csv'), index=False)\n",
    "        transformed_df_current.to_csv(os.path.join(filepath, 'transformed_df_current.csv'), index=False)\n",
    "\n",
    "        season_team_df_2024.to_csv(os.path.join(filepath, 'season_team_df_2024.csv'), index=False)\n",
    "        scaled_df_2024.to_csv(os.path.join(filepath, 'scaled_df_2024.csv'), index=False)\n",
    "\n",
    "        predictions_df.to_csv(os.path.join(filepath, 'results_df_2024.csv'), index=False)\n",
    "\n",
    "        print('Dataframes saved successfully')\n"
   ]
  }
 ],
 "metadata": {
  "kernelspec": {
   "display_name": "Python 3",
   "language": "python",
   "name": "python3"
  },
  "language_info": {
   "codemirror_mode": {
    "name": "ipython",
    "version": 3
   },
   "file_extension": ".py",
   "mimetype": "text/x-python",
   "name": "python",
   "nbconvert_exporter": "python",
   "pygments_lexer": "ipython3",
   "version": "3.11.9"
  }
 },
 "nbformat": 4,
 "nbformat_minor": 2
}
