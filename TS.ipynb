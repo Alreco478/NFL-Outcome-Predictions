{
 "cells": [
  {
   "cell_type": "code",
   "execution_count": 1,
   "metadata": {},
   "outputs": [],
   "source": [
    "import pandas as pd\n",
    "import requests\n",
    "\n",
    "# List of URLs to your JSON files\n",
    "urls = []\n",
    "for i in range(1,17):\n",
    "    urls.append(f'https://api.sportsdata.io/v3/nfl/stats/json/PlayerGameStatsByWeekFinal/2023/{i}?key=65c621ffda2a4f338705c94edf582d89')\n",
    "\n",
    "# List to store DataFrames\n",
    "dfList = []\n",
    "\n",
    "# Loop through each URL, fetch the JSON data, and load it into a DataFrame\n",
    "for url in urls:\n",
    "    response = requests.get(url)\n",
    "    data = response.json()\n",
    "    df = pd.DataFrame(data)\n",
    "    dfList.append(df)\n",
    "\n",
    "# Aggregate the DataFrames by concatenating them\n",
    "# This assumes the DataFrames have the same structure\n",
    "aggregated_df = pd.concat(dfList, ignore_index=True)"
   ]
  },
  {
   "cell_type": "code",
   "execution_count": 5,
   "metadata": {},
   "outputs": [
    {
     "ename": "",
     "evalue": "",
     "output_type": "error",
     "traceback": [
      "\u001b[1;31mThe Kernel crashed while executing code in the current cell or a previous cell. \n",
      "\u001b[1;31mPlease review the code in the cell(s) to identify a possible cause of the failure. \n",
      "\u001b[1;31mClick <a href='https://aka.ms/vscodeJupyterKernelCrash'>here</a> for more info. \n",
      "\u001b[1;31mView Jupyter <a href='command:jupyter.viewOutput'>log</a> for further details."
     ]
    }
   ],
   "source": [
    "aggregated_df.to_json('aggregated_data_2023.json', index=False)"
   ]
  }
 ],
 "metadata": {
  "kernelspec": {
   "display_name": "Python 3",
   "language": "python",
   "name": "python3"
  },
  "language_info": {
   "codemirror_mode": {
    "name": "ipython",
    "version": 3
   },
   "file_extension": ".py",
   "mimetype": "text/x-python",
   "name": "python",
   "nbconvert_exporter": "python",
   "pygments_lexer": "ipython3",
   "version": "3.11.9"
  }
 },
 "nbformat": 4,
 "nbformat_minor": 2
}
